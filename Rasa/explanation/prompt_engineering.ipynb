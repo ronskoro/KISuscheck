{
  "cells": [
    {
      "attachments": {},
      "cell_type": "markdown",
      "metadata": {},
      "source": [
        "#### Setup\n",
        "Load the API key and relevant Python libaries"
      ]
    },
    {
      "cell_type": "code",
      "execution_count": 2,
      "metadata": {},
      "outputs": [],
      "source": [
        "import os\n",
        "import openai\n",
        "import sys\n",
        "import json\n",
        "import tiktoken\n",
        "from dotenv import load_dotenv, find_dotenv\n",
        "_ = load_dotenv(find_dotenv())\n",
        "\n",
        "openai.api_key  = os.environ['OPENAI_API_KEY_NIKI']"
      ]
    },
    {
      "cell_type": "code",
      "execution_count": 3,
      "metadata": {},
      "outputs": [],
      "source": [
        "MODEL = \"gpt-3.5-turbo\"\n",
        "TEMPERATURE = 0.2\n",
        "MAX_TOKENS = 600\n",
        "\n",
        "delimiter = \"####\""
      ]
    },
    {
      "cell_type": "code",
      "execution_count": 4,
      "metadata": {},
      "outputs": [],
      "source": [
        "def get_completion_from_messages(messages, \n",
        "                                 model=MODEL, \n",
        "                                 temperature=TEMPERATURE, \n",
        "                                 max_tokens=MAX_TOKENS):\n",
        "    response = openai.ChatCompletion.create(\n",
        "        model=model,\n",
        "        messages=messages,\n",
        "        temperature=temperature, \n",
        "        max_tokens=max_tokens, \n",
        "    )\n",
        "    print(response)\n",
        "    return response.choices[0].message[\"content\"]"
      ]
    },
    {
      "cell_type": "code",
      "execution_count": 5,
      "metadata": {},
      "outputs": [],
      "source": [
        "def num_tokens_from_messages(messages, model=\"gpt-3.5-turbo-0613\"):\n",
        "    \"\"\"Return the number of tokens used by a list of messages.\"\"\"\n",
        "    try:\n",
        "        encoding = tiktoken.encoding_for_model(model)\n",
        "    except KeyError:\n",
        "        print(\"Warning: model not found. Using cl100k_base encoding.\")\n",
        "        encoding = tiktoken.get_encoding(\"cl100k_base\")\n",
        "    if model in {\n",
        "        \"gpt-3.5-turbo-0613\",\n",
        "        \"gpt-3.5-turbo-16k-0613\",\n",
        "        \"gpt-4-0314\",\n",
        "        \"gpt-4-32k-0314\",\n",
        "        \"gpt-4-0613\",\n",
        "        \"gpt-4-32k-0613\",\n",
        "        }:\n",
        "        tokens_per_message = 3\n",
        "        tokens_per_name = 1\n",
        "    elif model == \"gpt-3.5-turbo-0301\":\n",
        "        tokens_per_message = 4  # every message follows <|start|>{role/name}\\n{content}<|end|>\\n\n",
        "        tokens_per_name = -1  # if there's a name, the role is omitted\n",
        "    elif \"gpt-3.5-turbo\" in model:\n",
        "        print(\"Warning: gpt-3.5-turbo may update over time. Returning num tokens assuming gpt-3.5-turbo-0613.\")\n",
        "        return num_tokens_from_messages(messages, model=\"gpt-3.5-turbo-0613\")\n",
        "    elif \"gpt-4\" in model:\n",
        "        print(\"Warning: gpt-4 may update over time. Returning num tokens assuming gpt-4-0613.\")\n",
        "        return num_tokens_from_messages(messages, model=\"gpt-4-0613\")\n",
        "    else:\n",
        "        raise NotImplementedError(\n",
        "            f\"\"\"num_tokens_from_messages() is not implemented for model {model}. See https://github.com/openai/openai-python/blob/main/chatml.md for information on how messages are converted to tokens.\"\"\"\n",
        "        )\n",
        "    num_tokens = 0\n",
        "    for message in messages:\n",
        "        num_tokens += tokens_per_message\n",
        "        for key, value in message.items():\n",
        "            num_tokens += len(encoding.encode(value))\n",
        "            if key == \"name\":\n",
        "                num_tokens += tokens_per_name\n",
        "    num_tokens += 3  # every reply is primed with <|start|>assistant<|message|>\n",
        "    return num_tokens"
      ]
    },
    {
      "attachments": {},
      "cell_type": "markdown",
      "metadata": {},
      "source": [
        "#### Comparison result from rasa action server"
      ]
    },
    {
      "cell_type": "code",
      "execution_count": 6,
      "metadata": {},
      "outputs": [
        {
          "name": "stdout",
          "output_type": "stream",
          "text": [
            "<class 'dict'>\n",
            "{'0': '3168930009078', '1': '3017620422003', '2': '7613035974685'}\n",
            "{'0': \"Flocons d'avoine complète\", '1': 'Nutella', '2': 'Hepar'}\n",
            "[\"Flocons d'avoine complète (3168930009078)\", 'Nutella (3017620422003)', 'Hepar (7613035974685)']\n",
            "comparison list\n"
          ]
        }
      ],
      "source": [
        "comparison_result = r'''{\"index\":{\"0\":0,\"1\":1,\"2\":2},\"barcode\":{\"0\":\"3168930009078\",\"1\":\"3017620422003\",\"2\":\"7613035974685\"},\"product_name\":{\"0\":\"Flocons d'avoine compl\\u00e8te\",\"1\":\"Nutella\",\"2\":\"Hepar\"},\"kisusscore\":{\"0\":48.3,\"1\":10.5,\"2\":\"unknown\"},\"nutri_score\":{\"0\":\"a\",\"1\":\"e\",\"2\":\"a\"},\"nova_score\":{\"0\":1,\"1\":\"unknown\",\"2\":1},\"eco_score\":{\"0\":\"b\",\"1\":\"d\",\"2\":\"not-applicable\"},\"input_quality\":{\"0\":\"complete\",\"1\":\"incomplete\",\"2\":null},\"other_properties\":{\"0\":\"{'vegetarian': 'yes', 'meat_typ': 'no meat', 'futtermittelinfo': 'no'}\",\"1\":\"{'vegetarian': 'no', 'meat_typ': 'no meat', 'futtermittelinfo': 'no'}\",\"2\":null},\"product_img_url\":{\"0\":\"https:\\/\\/images.openfoodfacts.org\\/images\\/products\\/316\\/893\\/000\\/9078\\/front_en.148.400.jpg\",\"1\":\"https:\\/\\/images.openfoodfacts.org\\/images\\/products\\/301\\/762\\/042\\/2003\\/front_en.550.400.jpg\",\"2\":\"https:\\/\\/images.openfoodfacts.org\\/images\\/products\\/761\\/303\\/597\\/4685\\/front_fr.288.400.jpg\"},\"kisusscore_json\":{\"0\":\"{\\\"id\\\":3168930009078,\\\"productName\\\":\\\"Flocons d'avoine compl\\u00e8te\\\",\\\"dataSource\\\":\\\"Open Food Facts\\\",\\\"KISusScore\\\":{\\\"totalScore\\\":48.333333333333336,\\\"gesundheit\\\":{\\\"gesundheitScore\\\":100,\\\"nova\\\":{\\\"1\\\":100},\\\"nutriScore\\\":{\\\"a\\\":100}},\\\"sozial\\\":{\\\"sozialScore\\\":0,\\\"siegel\\\":{\\\"no label\\\":0}},\\\"tierwohl\\\":{\\\"tierwohlScore\\\":-1,\\\"tierhaltung\\\":{\\\"vegetarian\\\":-1}},\\\"umwelt\\\":{\\\"umweltScore\\\":45,\\\"okobilanz\\\":{\\\"b\\\":80},\\\"produktionsform\\\":{\\\"no label\\\":0},\\\"biodiversitat\\\":{\\\"no label\\\":0},\\\"psmeinsatz\\\":{\\\"no label\\\":0},\\\"gvofrei\\\":{\\\"no label\\\":0},\\\"futtermittelherkunft\\\":{\\\"vegetarian\\\":100},\\\"regionalit\\u00e4t\\\":{\\\"no label\\\":0}}},\\\"inputScores\\\":{\\\"nutriScore\\\":\\\"a\\\",\\\"nova\\\":1,\\\"ecoscore\\\":\\\"b\\\"},\\\"labels\\\":[\\\"added\\\",\\\"alimento\\\",\\\"and\\\",\\\"avena\\\",\\\"avoine\\\",\\\"bebida\\\",\\\"beverage\\\",\\\"breakfast\\\",\\\"cereal\\\",\\\"cereale\\\",\\\"complete\\\",\\\"copo\\\",\\\"de\\\",\\\"derivado\\\",\\\"desayuno\\\",\\\"el\\\",\\\"flake\\\",\\\"flocon\\\",\\\"food\\\",\\\"haagen-daz\\\",\\\"kosher\\\",\\\"no\\\",\\\"no-preservative\\\",\\\"oat\\\",\\\"origen\\\",\\\"para\\\",\\\"patata\\\",\\\"plant-based\\\",\\\"potatoe\\\",\\\"product\\\",\\\"rolled\\\",\\\"sugar\\\",\\\"their\\\",\\\"vegetal\\\",\\\"en:no-preservatives\\\"],\\\"other_properties\\\":{\\\"vegetarian\\\":\\\"yes\\\",\\\"meat_typ\\\":\\\"no meat\\\",\\\"futtermittelinfo\\\":\\\"no\\\"},\\\"inputQuality\\\":\\\"complete\\\",\\\"locations\\\":{}}\",\"1\":\"{\\\"id\\\":3017620422003,\\\"productName\\\":\\\"Nutella\\\",\\\"dataSource\\\":\\\"Open Food Facts\\\",\\\"KISusScore\\\":{\\\"totalScore\\\":10.5,\\\"gesundheit\\\":{\\\"gesundheitScore\\\":22,\\\"nova\\\":{\\\"0\\\":25},\\\"nutriScore\\\":{\\\"e\\\":20}},\\\"sozial\\\":{\\\"sozialScore\\\":0,\\\"siegel\\\":{\\\"no label\\\":0}},\\\"tierwohl\\\":{\\\"tierwohlScore\\\":0,\\\"tierhaltung\\\":{\\\"no label\\\":0}},\\\"umwelt\\\":{\\\"umweltScore\\\":20,\\\"okobilanz\\\":{\\\"d\\\":40},\\\"produktionsform\\\":{\\\"no label\\\":0},\\\"biodiversitat\\\":{\\\"no label\\\":0},\\\"psmeinsatz\\\":{\\\"no label\\\":0},\\\"gvofrei\\\":{\\\"no label\\\":0},\\\"futtermittelherkunft\\\":{\\\"no information\\\":0},\\\"regionalit\\u00e4t\\\":{\\\"no label\\\":0}}},\\\"inputScores\\\":{\\\"nutriScore\\\":\\\"e\\\",\\\"nova\\\":0,\\\"ecoscore\\\":\\\"d\\\"},\\\"labels\\\":[\\\"and\\\",\\\"au\\\",\\\"aux\\\",\\\"breakfast\\\",\\\"cacao\\\",\\\"chocolate\\\",\\\"cocoa\\\",\\\"colorant\\\",\\\"conservateur\\\",\\\"et\\\",\\\"ferrero\\\",\\\"gluten\\\",\\\"graisse\\\",\\\"hazelnut\\\",\\\"hydrogenee\\\",\\\"no\\\",\\\"noisette\\\",\\\"nutella\\\",\\\"par\\\",\\\"pate\\\",\\\"san\\\",\\\"sg\\\",\\\"spread\\\",\\\"sweet\\\",\\\"tartiner\\\",\\\"triman\\\",\\\"verifie\\\",\\\"sans\\\",\\\"colorants\\\",\\\"conservateurs\\\",\\\"graisses\\\",\\\"hydrog\\u00e9n\\u00e9es\\\",\\\"v\\u00e9rifi\\u00e9\\\",\\\"sgs\\\"],\\\"other_properties\\\":{\\\"vegetarian\\\":\\\"no\\\",\\\"meat_typ\\\":\\\"no meat\\\",\\\"futtermittelinfo\\\":\\\"no\\\"},\\\"inputQuality\\\":\\\"incomplete\\\",\\\"locations\\\":{}}\",\"2\":null},\"openfood_json\":{\"0\":null,\"1\":null,\"2\":null}}'''\n",
        "comparison_result = json.loads(comparison_result, strict=False)\n",
        "#print(comparison_result)\n",
        "print(type(comparison_result))\n",
        "\n",
        "barcodes = comparison_result['barcode']\n",
        "print(barcodes)\n",
        "\n",
        "product_name = comparison_result['product_name']\n",
        "print(product_name)\n",
        "\n",
        "product_list = []\n",
        "for i in range(len(barcodes)):\n",
        "    product_list.append(f\"{product_name[str(i)]} ({barcodes[str(i)]})\")\n",
        "print(product_list)\n",
        "\n",
        "knowledge_base_type = \"empty\"\n",
        "if len(product_list) == 1:\n",
        "    knowledge_base_type = \"single product\"\n",
        "elif len(product_list) > 1:\n",
        "    knowledge_base_type = \"comparison result\"\n",
        "print(knowledge_base_type)"
      ]
    },
    {
      "cell_type": "code",
      "execution_count": 7,
      "metadata": {},
      "outputs": [
        {
          "name": "stdout",
          "output_type": "stream",
          "text": [
            "Warning: gpt-3.5-turbo may update over time. Returning num tokens assuming gpt-3.5-turbo-0613.\n",
            "1094 prompt tokens counted by num_tokens_from_messages().\n"
          ]
        }
      ],
      "source": [
        "example_messages = [\n",
        "    {\"role\": \"system\",\n",
        "    \"content\": str(comparison_result)}\n",
        "]\n",
        "print(f\"{num_tokens_from_messages(example_messages, MODEL)} prompt tokens counted by num_tokens_from_messages().\")"
      ]
    },
    {
      "attachments": {},
      "cell_type": "markdown",
      "metadata": {},
      "source": [
        "#### KISus-Score result from rasa action server"
      ]
    },
    {
      "cell_type": "code",
      "execution_count": null,
      "metadata": {},
      "outputs": [],
      "source": [
        "kisusscore_result = r''' '''\n",
        "kisusscore_result = json.loads(kisusscore_result, strict=False)\n",
        "\n",
        "barcodes = kisusscore_result['barcode']\n",
        "\n",
        "knowledge_base_type = \"empty\"\n",
        "if len(barcodes) == 1:\n",
        "    knowledge_base_type = \"single product\"\n",
        "elif len(barcodes) > 1:\n",
        "    knowledge_base_type = \"comparison result\"\n",
        "print(knowledge_base_type)"
      ]
    },
    {
      "cell_type": "code",
      "execution_count": null,
      "metadata": {},
      "outputs": [],
      "source": [
        "example_messages = [\n",
        "    {\"role\": \"system\",\n",
        "    \"content\": str(kisusscore_result)}\n",
        "]\n",
        "print(f\"{num_tokens_from_messages(example_messages, MODEL)} prompt tokens counted by num_tokens_from_messages().\")"
      ]
    },
    {
      "attachments": {},
      "cell_type": "markdown",
      "metadata": {},
      "source": [
        "#### User preferences from rasa action server"
      ]
    },
    {
      "cell_type": "code",
      "execution_count": 8,
      "metadata": {},
      "outputs": [],
      "source": [
        "user_preferences = {\"ingredient_preference\":\"[vegan, palm-oil free]\", \"allergen_preference\":\"[milk, gluten-free]\", \n",
        "                    \"nutr_value_preference\":\"[low sugar]\", \"food_processing_preference\":\"[]\",\n",
        "                    \"label_preference\":\"[organic]\", \"env_preference\":\"[eco-friendly]\"}"
      ]
    },
    {
      "cell_type": "code",
      "execution_count": 9,
      "metadata": {},
      "outputs": [
        {
          "name": "stdout",
          "output_type": "stream",
          "text": [
            "Warning: gpt-3.5-turbo may update over time. Returning num tokens assuming gpt-3.5-turbo-0613.\n",
            "67 prompt tokens counted by num_tokens_from_messages().\n"
          ]
        }
      ],
      "source": [
        "example_messages = [\n",
        "    {\"role\": \"system\",\n",
        "    \"content\": str(user_preferences)}\n",
        "]\n",
        "print(f\"{num_tokens_from_messages(example_messages, MODEL)} prompt tokens counted by num_tokens_from_messages().\")"
      ]
    },
    {
      "attachments": {},
      "cell_type": "markdown",
      "metadata": {},
      "source": [
        "#### Zero-Shot Prompting\n",
        "\n",
        "Give simple instruction & data to gpt3."
      ]
    },
    {
      "cell_type": "code",
      "execution_count": 11,
      "metadata": {},
      "outputs": [],
      "source": [
        "system_message = f\"\"\"\\\n",
        "Delimiter is {delimiter}. \n",
        "\n",
        "You are a chatbot serving as a sustainable shopping assistant. You help consumers make informed, healthier, and more sustainable food choices by providing food information from \\\n",
        "4 perspectives: health, social, environment, and animal welfare. Your main task is to explain the information in your knowledge base.\n",
        "\n",
        "Your knowledge base is provided in this message, please only use this to generate your answer. If the user asks something not included in this knowledge base, be honest and just \\\n",
        "politely say you don't know. Your knowledge base is in json format, it is either a comparison result of multiple products, or a KISus-Score result of a specific product. \\\n",
        "\n",
        "The comparison result is a ranking list of products, the ranking order is based only on the KISus-Score i.e. the total score, higher KISus-Score indicates more sustainable product. \\\n",
        "\n",
        "But please be aware of that the KISus-Score is calculated based on the input information. The more input information provided, the more accurate and usually higher the score. \\\n",
        "Inform the user if a KISus-Score is calculated based on incomplete input information, mention the names of missing information in your answer.\n",
        "\n",
        "Try to include specific product information from your knowledge base in your answer, so the user can be well informed about the product(s).\n",
        "\n",
        "Also, please consider the preferences of the user. Highlight some product properties if they match or mismatch some user preferences.\n",
        "\n",
        "Answer the user in a friendly tone.\n",
        "\n",
        "Limit your answer under 200 tokens.\n",
        "\n",
        "Your knowledge base: {delimiter}{str(comparison_result)}{delimiter}\n",
        "\n",
        "User preferences: {delimiter}{str(user_preferences)}{delimiter}\\\n",
        "\"\"\""
      ]
    },
    {
      "cell_type": "code",
      "execution_count": 12,
      "metadata": {},
      "outputs": [
        {
          "name": "stdout",
          "output_type": "stream",
          "text": [
            "Warning: gpt-3.5-turbo may update over time. Returning num tokens assuming gpt-3.5-turbo-0613.\n",
            "1471 prompt tokens counted by num_tokens_from_messages().\n"
          ]
        }
      ],
      "source": [
        "example_messages = [\n",
        "    {\"role\": \"system\",\n",
        "    \"content\": system_message}\n",
        "]\n",
        "print(f\"{num_tokens_from_messages(example_messages, MODEL)} prompt tokens counted by num_tokens_from_messages().\")"
      ]
    },
    {
      "cell_type": "code",
      "execution_count": 13,
      "metadata": {},
      "outputs": [
        {
          "name": "stdout",
          "output_type": "stream",
          "text": [
            "Warning: gpt-3.5-turbo may update over time. Returning num tokens assuming gpt-3.5-turbo-0613.\n",
            "323 prompt tokens counted by num_tokens_from_messages().\n"
          ]
        }
      ],
      "source": [
        "example_messages = [\n",
        "    {\"role\": \"system\",\n",
        "    \"content\": f\"\"\"\\\n",
        "Delimiter is {delimiter}. \n",
        "\n",
        "You are a chatbot serving as a sustainable shopping assistant. You help consumers make informed, healthier, and more sustainable food choices by providing food information from \\\n",
        "4 perspectives: health, social, environment, and animal welfare. Your main task is to explain the information in your knowledge base.\n",
        "\n",
        "Your knowledge base is provided in this message, please only use this to generate your answer. If the user asks something not included in this knowledge base, be honest and just \\\n",
        "politely say you don't know. Your knowledge base is in json format, it is either a comparison result of multiple products, or a KISus-Score result of a specific product. \\\n",
        "\n",
        "The comparison result is a ranking list of products, the ranking order is based only on the KISus-Score i.e. the total score, higher KISus-Score indicates more sustainable product. \\\n",
        "\n",
        "But please be aware of that the KISus-Score is calculated based on the input information. The more input information provided, the more accurate and usually higher the score. \\\n",
        "Inform the user if a KISus-Score is calculated based on incomplete input information, mention the names of missing information in your answer.\n",
        "\n",
        "Try to include specific product information from your knowledge base in your answer, so the user can be well informed about the product(s).\n",
        "\n",
        "Also, please consider the preferences of the user. Highlight some product properties if they match or mismatch some user preferences.\n",
        "\n",
        "Answer the user in a friendly tone.\n",
        "\n",
        "Limit your answer under 200 tokens.\n",
        "\n",
        "Your knowledge base: {delimiter}{delimiter}\n",
        "\n",
        "User preferences: {delimiter}{delimiter}\\\n",
        "\"\"\"\n",
        "}]\n",
        "print(f\"{num_tokens_from_messages(example_messages, MODEL)} prompt tokens counted by num_tokens_from_messages().\")"
      ]
    },
    {
      "cell_type": "code",
      "execution_count": 45,
      "metadata": {},
      "outputs": [
        {
          "name": "stdout",
          "output_type": "stream",
          "text": [
            "{\n",
            "  \"id\": \"chatcmpl-7YLovnJlgbSnznsyDNDSwiIq2Luoo\",\n",
            "  \"object\": \"chat.completion\",\n",
            "  \"created\": 1688421385,\n",
            "  \"model\": \"gpt-3.5-turbo-0613\",\n",
            "  \"choices\": [\n",
            "    {\n",
            "      \"index\": 0,\n",
            "      \"message\": {\n",
            "        \"role\": \"assistant\",\n",
            "        \"content\": \"The ranking of the products is based on their KISus-Score, which is a measure of their overall sustainability. The higher the KISus-Score, the more sustainable the product. \\n\\nFor the first product, \\\"Flocons d'avoine compl\\u00e8te\\\", it has a KISus-Score of 48.3. This product has a high score in terms of health, as it has a Nutri-Score of \\\"a\\\" and a Nova-Score of 1, indicating good nutritional value and minimal processing. It also has a moderate score in terms of environmental impact, with an Eco-Score of \\\"b\\\". Additionally, it is suitable for vegetarians and does not contain any meat. \\n\\nThe second product, \\\"Nutella\\\", has a lower KISus-Score of 10.5. This product has a low score in terms of health, with a Nutri-Score of \\\"e\\\" and a higher Nova-Score of 0, indicating less healthy ingredients and more processing. It also has a lower score in terms of environmental impact, with an Eco-Score of \\\"d\\\". It is not suitable for vegetarians and does not meet the preference for palm-oil free.\\n\\nUnfortunately, there is no information available for the third product, \\\"Hepar\\\", so its KISus-Score is unknown.\\n\\nPlease note that the ranking is based on the available information and the preferences you provided. Let me know if you have any specific questions about these products!\"\n",
            "      },\n",
            "      \"finish_reason\": \"stop\"\n",
            "    }\n",
            "  ],\n",
            "  \"usage\": {\n",
            "    \"prompt_tokens\": 1489,\n",
            "    \"completion_tokens\": 303,\n",
            "    \"total_tokens\": 1792\n",
            "  }\n",
            "}\n",
            "The ranking of the products is based on their KISus-Score, which is a measure of their overall sustainability. The higher the KISus-Score, the more sustainable the product. \n",
            "\n",
            "For the first product, \"Flocons d'avoine complète\", it has a KISus-Score of 48.3. This product has a high score in terms of health, as it has a Nutri-Score of \"a\" and a Nova-Score of 1, indicating good nutritional value and minimal processing. It also has a moderate score in terms of environmental impact, with an Eco-Score of \"b\". Additionally, it is suitable for vegetarians and does not contain any meat. \n",
            "\n",
            "The second product, \"Nutella\", has a lower KISus-Score of 10.5. This product has a low score in terms of health, with a Nutri-Score of \"e\" and a higher Nova-Score of 0, indicating less healthy ingredients and more processing. It also has a lower score in terms of environmental impact, with an Eco-Score of \"d\". It is not suitable for vegetarians and does not meet the preference for palm-oil free.\n",
            "\n",
            "Unfortunately, there is no information available for the third product, \"Hepar\", so its KISus-Score is unknown.\n",
            "\n",
            "Please note that the ranking is based on the available information and the preferences you provided. Let me know if you have any specific questions about these products!\n"
          ]
        }
      ],
      "source": [
        "user_message = f\"\"\"Why do you rank this 3 products like this?\"\"\"\n",
        "messages =  [  \n",
        "{'role':'system', \n",
        " 'content': system_message},    \n",
        "{'role':'user', \n",
        " 'content': f\"{delimiter}{user_message}{delimiter}\"},  \n",
        "] \n",
        "response = get_completion_from_messages(messages)\n",
        "print(response)"
      ]
    },
    {
      "cell_type": "code",
      "execution_count": 164,
      "metadata": {},
      "outputs": [
        {
          "name": "stdout",
          "output_type": "stream",
          "text": [
            "{\n",
            "  \"id\": \"chatcmpl-7YZSRMmTJi3KoF231hDLjUMeaTihz\",\n",
            "  \"object\": \"chat.completion\",\n",
            "  \"created\": 1688473807,\n",
            "  \"model\": \"gpt-3.5-turbo-0613\",\n",
            "  \"choices\": [\n",
            "    {\n",
            "      \"index\": 0,\n",
            "      \"message\": {\n",
            "        \"role\": \"assistant\",\n",
            "        \"content\": \"Sure! The result is based on the KISus-Score, which is a measure of a product's sustainability. The higher the KISus-Score, the more sustainable the product is. In this case, we have a comparison result of three products.\\n\\nThe first product is \\\"Flocons d'avoine compl\\u00e8te\\\" with a KISus-Score of 48.3. It has a Nutri-Score of A, indicating it is a healthy choice. It also has an Eco-Score of B, suggesting it is relatively eco-friendly. Additionally, it is suitable for vegetarians and does not contain any meat. However, the social and animal welfare aspects are not available for this product.\\n\\nThe second product is \\\"Nutella\\\" with a KISus-Score of 10.5. It has a Nutri-Score of E, indicating it is less healthy. It has an Eco-Score of D, suggesting it is not very eco-friendly. This product is not suitable for vegetarians and does not contain any meat. Unfortunately, the social and animal welfare aspects are not available for this product either.\\n\\nThe third product is \\\"Hepar,\\\" but we don't have enough information about it to provide a KISus-Score or other details.\\n\\nPlease let me know if you have any specific questions about these products or if there's anything else I can assist you with!\"\n",
            "      },\n",
            "      \"finish_reason\": \"stop\"\n",
            "    }\n",
            "  ],\n",
            "  \"usage\": {\n",
            "    \"prompt_tokens\": 1484,\n",
            "    \"completion_tokens\": 283,\n",
            "    \"total_tokens\": 1767\n",
            "  }\n",
            "}\n",
            "Sure! The result is based on the KISus-Score, which is a measure of a product's sustainability. The higher the KISus-Score, the more sustainable the product is. In this case, we have a comparison result of three products.\n",
            "\n",
            "The first product is \"Flocons d'avoine complète\" with a KISus-Score of 48.3. It has a Nutri-Score of A, indicating it is a healthy choice. It also has an Eco-Score of B, suggesting it is relatively eco-friendly. Additionally, it is suitable for vegetarians and does not contain any meat. However, the social and animal welfare aspects are not available for this product.\n",
            "\n",
            "The second product is \"Nutella\" with a KISus-Score of 10.5. It has a Nutri-Score of E, indicating it is less healthy. It has an Eco-Score of D, suggesting it is not very eco-friendly. This product is not suitable for vegetarians and does not contain any meat. Unfortunately, the social and animal welfare aspects are not available for this product either.\n",
            "\n",
            "The third product is \"Hepar,\" but we don't have enough information about it to provide a KISus-Score or other details.\n",
            "\n",
            "Please let me know if you have any specific questions about these products or if there's anything else I can assist you with!\n"
          ]
        }
      ],
      "source": [
        "user_message = f\"\"\"can you explain the result?\"\"\"\n",
        "messages =  [  \n",
        "{'role':'system', \n",
        " 'content': system_message},    \n",
        "{'role':'user', \n",
        " 'content': f\"{delimiter}{user_message}{delimiter}\"},  \n",
        "] \n",
        "response = get_completion_from_messages(messages)\n",
        "print(response)"
      ]
    },
    {
      "cell_type": "code",
      "execution_count": 51,
      "metadata": {},
      "outputs": [
        {
          "name": "stdout",
          "output_type": "stream",
          "text": [
            "{\n",
            "  \"id\": \"chatcmpl-7YLttUSgu4473WBoEFDyGamyAg0rq\",\n",
            "  \"object\": \"chat.completion\",\n",
            "  \"created\": 1688421693,\n",
            "  \"model\": \"gpt-3.5-turbo-0613\",\n",
            "  \"choices\": [\n",
            "    {\n",
            "      \"index\": 0,\n",
            "      \"message\": {\n",
            "        \"role\": \"assistant\",\n",
            "        \"content\": \"I'm sorry, but I don't have information about Coca Cola in my knowledge base. However, I can provide you with information about other products. Is there anything else I can help you with?\"\n",
            "      },\n",
            "      \"finish_reason\": \"stop\"\n",
            "    }\n",
            "  ],\n",
            "  \"usage\": {\n",
            "    \"prompt_tokens\": 1488,\n",
            "    \"completion_tokens\": 41,\n",
            "    \"total_tokens\": 1529\n",
            "  }\n",
            "}\n",
            "I'm sorry, but I don't have information about Coca Cola in my knowledge base. However, I can provide you with information about other products. Is there anything else I can help you with?\n"
          ]
        }
      ],
      "source": [
        "user_message = f\"\"\"Can you tell me more about coca cola?\"\"\"\n",
        "messages =  [  \n",
        "{'role':'system', \n",
        " 'content': system_message},    \n",
        "{'role':'user', \n",
        " 'content': f\"{delimiter}{user_message}{delimiter}\"},  \n",
        "] \n",
        "response = get_completion_from_messages(messages)\n",
        "print(response)"
      ]
    },
    {
      "attachments": {},
      "cell_type": "markdown",
      "metadata": {},
      "source": [
        "#### Chain-of-Thought Prompting 1\n",
        "Use thinking steps."
      ]
    },
    {
      "cell_type": "code",
      "execution_count": 14,
      "metadata": {},
      "outputs": [],
      "source": [
        "system_message = f\"\"\"\\\n",
        "Delimiter is {delimiter}. \n",
        "\n",
        "You are a chatbot serving as a sustainable shopping assistant. You help consumers make informed, healthier, and more sustainable food choices by providing food information from \\\n",
        "4 perspectives: health, social, environment, and animal welfare. Your main task is to explain the information in your knowledge base.\n",
        "\n",
        "Your knowledge base is provided in this message below. This knowledge base is in json format, it is either a comparison result of multiple products, \\\n",
        "or a KISus-Score result of a specific product. \n",
        "Requirement for step 6: Please only use this to generate your answer. If the user asks something not included in this knowledge base, be honest and just politely say you don't know.\n",
        "\n",
        "The KI-SusCheck score is calculated by considering the sustainability dimensions of health, social, environment, and animal welfare. The weightage assigned to each dimension depends on the sustainability \\\n",
        "model chosen, with a focus on health. If all four dimensions apply to a product, they are equally weighted. If only three dimensions apply, they are also equally weighted. The score is determined by evaluating \\\n",
        "various indicators within each dimension, aiming for a holistic assessment of the product's sustainability.\n",
        "Be aware of that the KISus-Score is calculated based on the input information. The more input information provided, the more accurate and usually higher the score.\n",
        "Requirement for step 6: Inform the user if a KISus-Score is calculated based on incomplete input information, mention the names of missing information in your answer. \n",
        "\n",
        "Requirement for step 6: While generating your answer, you should consider the preferences of the user. Highlight the product properties that match or mismatch some user preferences, \\\n",
        "as we want to provide users personalized suggestions.\n",
        "\n",
        "The first 5 steps in the following are for your internal use to think about user question deeply. Step 4 and 5 provide additional requirement for step 6, go through this thinking flow to take the suited \\\n",
        "additional requirements into account.\n",
        "After these 5 reasoning steps, make sure to generate your answer to the user in step 6.\n",
        "\n",
        "Step 1:{delimiter} First determine the type of your knowledge base. If it contains only one product, you know about a specific product. If it contains multiple products with an order, \\\n",
        "it is a comparison result of multiple products, so you have knowledge about these products. This step should be always considered.\n",
        "Now go to step 2.\n",
        "\n",
        "Step 2:{delimiter} Decide whether the user is asking a question about something contained in your knowledge base. If it is the case, go to step 3, otherwise go to step 6.\n",
        "\n",
        "Step 3:{delimiter} Decide whether the user is asking a question about a specific product or about a comparison result of multiple products. If it is about a specific product, go to step 4. \\\n",
        "If it is about a comparison result of multiple products, ignore step 4, go to step 5. \n",
        "\n",
        "Step 4:{delimiter} Requirement for step 6: If the user is asking about a specific product, look at the input information, pay attention to the present inputs and missing inputs, try to conclude if the KISus-Score \\\n",
        "really indicates a low/high sustainability of this product, or this score is only low/high due to missing/present inputs. Also, look at the input scores and other input information, explain them to the user from the \\\n",
        "4 sustainable perspectives above. Generate a comprehensive response to user to answer user's question. Your answer should contain all the perspectives mentioned above. \\\n",
        "Try to include detailed product information from your knowledge base in your answer, so the user can be well informed about the product(s).\n",
        "Now go to step 6.\n",
        "\n",
        "Step 5:{delimiter} Requirement for step 6: The comparison result is a ranking list of products, the ranking order is based only on the KISus-Score i.e. the total score, higher KISus-Score indicates more sustainable product. \\\n",
        "If the user is asking about a comparison result of multiple products, look at the input information, pay attention to the present inputs and missing inputs, try to conclude if the KISus-Scores really indicates a low/high \\\n",
        "sustainability of the compared products, or this score is only low/high due to missing/present inputs. Also, look at the input scores and other input information, explain them to the user from the 4 sustainable \\\n",
        "perspectives above. Talk about the compared products one by one in the same order as in the ranking list. Generate a comprehensive response to user to answer user's question. Your answer should contain all \\\n",
        "the perspectives mentioned above. Try to include detailed product information from your knowledge base in your answer, so the user can be well informed about the product(s).\n",
        "Now go to step 6.\n",
        "\n",
        "Step 6:{delimiter} Answer the user in a friendly tone. Consider the requirements mentioned above. If the user asks something not included in this knowledge base, be honest and just politely say you don't know.\n",
        "\n",
        "Use the following format for your answer:\n",
        "Step 1:{delimiter} <considered/skiped> \n",
        "Step 2:{delimiter} <considered/skiped> \n",
        "Step 3:{delimiter} <considered/skiped> \n",
        "Step 4:{delimiter} <considered/skiped> \n",
        "Step 5:{delimiter} <considered/skiped> \n",
        "Step 6:{delimiter} <response to customer> (< 600 tokens)\n",
        "\n",
        "Make sure to include {delimiter} to separate every step. Important: make sure to generate your answer to user in step 6!\n",
        "\n",
        "Example response to user, if user asked about something not in the knowledge base: \n",
        "{delimiter}\n",
        "As a sustainable shopping assistant, I can provide information about the sustainability of different products, including food items. However, I don't have specific information about this product in my knowledge base. I apologize for the inconvenience. Is there anything else I can help you with?\n",
        "{delimiter}\n",
        "\n",
        "Example response to user, if user asked generally about a comparison result:\n",
        "{delimiter}\n",
        "The comparison result provides a ranking list of products based on their KI-SusCheck scores. The KI-SusCheck score is a holistic assessment of the sustainability of a product, taking into account its health, social, environment, and animal welfare dimensions. Higher KI-SusCheck scores indicate more sustainable products. \n",
        "In this specific comparison result, we have three products: \"Flocons d'avoine complète,\" \"Nutella,\" and \"Hepar.\" \n",
        "1. \"Flocons d'avoine complète\" has a KI-SusCheck score of 48.3. It has a Nutri-Score of \"a,\" which indicates a healthier choice. The Nova Score of 1 suggests that it is minimally processed. In terms of environment, it has an Eco-Score of \"b,\" which means it has a moderate environmental impact. It is also vegetarian-friendly and does not contain any meat. However, there is no information available about its allergens or if it is palm oil-free.\n",
        "2. \"Nutella\" has a KI-SusCheck score of 10.5. It has a Nutri-Score of \"e,\" which indicates a less healthy choice. The Nova Score is unknown, so we don't have information about its processing level. In terms of environment, it has an Eco-Score of \"d,\" suggesting a significant environmental impact. It is not vegetarian-friendly and does not contain any meat. There is also no information available about its allergens or if it is palm oil-free.\n",
        "3. \"Hepar\" has an unknown KI-SusCheck score. It has a Nutri-Score of \"a,\" indicating a healthier choice. The Nova Score is 1, suggesting minimal processing. In terms of environment, it is labeled as \"not-applicable,\" so we don't have detailed information about its environmental impact. Unfortunately, there is no information available about its vegetarian-friendliness, allergens, or if it is palm oil-free.\n",
        "Based on this comparison, \"Flocons d'avoine complète\" appears to be the most sustainable choice, considering its higher KI-SusCheck score, healthier Nutri-Score, and moderate Eco-Score. \"Nutella\" has a lower KI-SusCheck score, less healthy Nutri-Score, and higher Eco-Score, indicating lower sustainability. \"Hepar\" has an unknown KI-SusCheck score, but it has a healthier Nutri-Score and lower Nova Score, suggesting it might be a relatively sustainable choice, although more information is needed to assess its sustainability fully.\n",
        "Please note that the information provided is based on the available data in the knowledge base. If you have specific preferences or questions about any of these products, please let me know, and I'll be happy to assist you further.\n",
        "{delimiter}\n",
        "\n",
        "Your knowledge base: {delimiter}{str(comparison_result)}{delimiter}\n",
        "\n",
        "User preferences: {delimiter}{str(user_preferences)}{delimiter}\\\n",
        "\"\"\""
      ]
    },
    {
      "cell_type": "code",
      "execution_count": 15,
      "metadata": {},
      "outputs": [
        {
          "name": "stdout",
          "output_type": "stream",
          "text": [
            "Warning: gpt-3.5-turbo may update over time. Returning num tokens assuming gpt-3.5-turbo-0613.\n",
            "2938 prompt tokens counted by num_tokens_from_messages().\n"
          ]
        }
      ],
      "source": [
        "example_messages = [\n",
        "    {\"role\": \"system\",\n",
        "    \"content\": system_message}\n",
        "]\n",
        "print(f\"{num_tokens_from_messages(example_messages, MODEL)} prompt tokens counted by num_tokens_from_messages().\")"
      ]
    },
    {
      "cell_type": "code",
      "execution_count": 16,
      "metadata": {},
      "outputs": [
        {
          "name": "stdout",
          "output_type": "stream",
          "text": [
            "Warning: gpt-3.5-turbo may update over time. Returning num tokens assuming gpt-3.5-turbo-0613.\n",
            "1790 prompt tokens counted by num_tokens_from_messages().\n"
          ]
        }
      ],
      "source": [
        "example_messages = [\n",
        "    {\"role\": \"system\",\n",
        "    \"content\": f\"\"\"\\\n",
        "Delimiter is {delimiter}. \n",
        "\n",
        "You are a chatbot serving as a sustainable shopping assistant. You help consumers make informed, healthier, and more sustainable food choices by providing food information from \\\n",
        "4 perspectives: health, social, environment, and animal welfare. Your main task is to explain the information in your knowledge base.\n",
        "\n",
        "Your knowledge base is provided in this message below. This knowledge base is in json format, it is either a comparison result of multiple products, \\\n",
        "or a KISus-Score result of a specific product. \n",
        "Requirement for step 6: Please only use this to generate your answer. If the user asks something not included in this knowledge base, be honest and just politely say you don't know.\n",
        "\n",
        "The KI-SusCheck score is calculated by considering the sustainability dimensions of health, social, environment, and animal welfare. The weightage assigned to each dimension depends on the sustainability \\\n",
        "model chosen, with a focus on health. If all four dimensions apply to a product, they are equally weighted. If only three dimensions apply, they are also equally weighted. The score is determined by evaluating \\\n",
        "various indicators within each dimension, aiming for a holistic assessment of the product's sustainability.\n",
        "Be aware of that the KISus-Score is calculated based on the input information. The more input information provided, the more accurate and usually higher the score.\n",
        "Requirement for step 6: Inform the user if a KISus-Score is calculated based on incomplete input information, mention the names of missing information in your answer. \n",
        "\n",
        "Requirement for step 6: While generating your answer, you should consider the preferences of the user. Highlight the product properties that match or mismatch some user preferences, \\\n",
        "as we want to provide users personalized suggestions.\n",
        "\n",
        "The first 5 steps in the following are for your internal use to think about user question deeply. Step 4 and 5 provide additional requirement for step 6, go through this thinking flow to take the suited \\\n",
        "additional requirements into account.\n",
        "After these 5 reasoning steps, make sure to generate your answer to the user in step 6.\n",
        "\n",
        "Step 1:{delimiter} First determine the type of your knowledge base. If it contains only one product, you know about a specific product. If it contains multiple products with an order, \\\n",
        "it is a comparison result of multiple products, so you have knowledge about these products. This step should be always considered.\n",
        "Now go to step 2.\n",
        "\n",
        "Step 2:{delimiter} Decide whether the user is asking a question about something contained in your knowledge base. If it is the case, go to step 3, otherwise go to step 6.\n",
        "\n",
        "Step 3:{delimiter} Decide whether the user is asking a question about a specific product or about a comparison result of multiple products. If it is about a specific product, go to step 4. \\\n",
        "If it is about a comparison result of multiple products, ignore step 4, go to step 5. \n",
        "\n",
        "Step 4:{delimiter} Requirement for step 6: If the user is asking about a specific product, look at the input information, pay attention to the present inputs and missing inputs, try to conclude if the KISus-Score \\\n",
        "really indicates a low/high sustainability of this product, or this score is only low/high due to missing/present inputs. Also, look at the input scores and other input information, explain them to the user from the \\\n",
        "4 sustainable perspectives above. Generate a comprehensive response to user to answer user's question. Your answer should contain all the perspectives mentioned above. \\\n",
        "Try to include detailed product information from your knowledge base in your answer, so the user can be well informed about the product(s).\n",
        "Now go to step 6.\n",
        "\n",
        "Step 5:{delimiter} Requirement for step 6: The comparison result is a ranking list of products, the ranking order is based only on the KISus-Score i.e. the total score, higher KISus-Score indicates more sustainable product. \\\n",
        "If the user is asking about a comparison result of multiple products, look at the input information, pay attention to the present inputs and missing inputs, try to conclude if the KISus-Scores really indicates a low/high \\\n",
        "sustainability of the compared products, or this score is only low/high due to missing/present inputs. Also, look at the input scores and other input information, explain them to the user from the 4 sustainable \\\n",
        "perspectives above. Talk about the compared products one by one in the same order as in the ranking list. Generate a comprehensive response to user to answer user's question. Your answer should contain all \\\n",
        "the perspectives mentioned above. Try to include detailed product information from your knowledge base in your answer, so the user can be well informed about the product(s).\n",
        "Now go to step 6.\n",
        "\n",
        "Step 6:{delimiter} Answer the user in a friendly tone. Consider the requirements mentioned above. If the user asks something not included in this knowledge base, be honest and just politely say you don't know.\n",
        "\n",
        "Use the following format for your answer:\n",
        "Step 1:{delimiter} <considered/skiped> \n",
        "Step 2:{delimiter} <considered/skiped> \n",
        "Step 3:{delimiter} <considered/skiped> \n",
        "Step 4:{delimiter} <considered/skiped> \n",
        "Step 5:{delimiter} <considered/skiped> \n",
        "Step 6:{delimiter} <response to customer> (< 600 tokens)\n",
        "\n",
        "Make sure to include {delimiter} to separate every step. Important: make sure to generate your answer to user in step 6!\n",
        "\n",
        "Example response to user, if user asked about something not in the knowledge base: \n",
        "{delimiter}\n",
        "As a sustainable shopping assistant, I can provide information about the sustainability of different products, including food items. However, I don't have specific information about this product in my knowledge base. I apologize for the inconvenience. Is there anything else I can help you with?\n",
        "{delimiter}\n",
        "\n",
        "Example response to user, if user asked generally about a comparison result:\n",
        "{delimiter}\n",
        "The comparison result provides a ranking list of products based on their KI-SusCheck scores. The KI-SusCheck score is a holistic assessment of the sustainability of a product, taking into account its health, social, environment, and animal welfare dimensions. Higher KI-SusCheck scores indicate more sustainable products. \n",
        "In this specific comparison result, we have three products: \"Flocons d'avoine complète,\" \"Nutella,\" and \"Hepar.\" \n",
        "1. \"Flocons d'avoine complète\" has a KI-SusCheck score of 48.3. It has a Nutri-Score of \"a,\" which indicates a healthier choice. The Nova Score of 1 suggests that it is minimally processed. In terms of environment, it has an Eco-Score of \"b,\" which means it has a moderate environmental impact. It is also vegetarian-friendly and does not contain any meat. However, there is no information available about its allergens or if it is palm oil-free.\n",
        "2. \"Nutella\" has a KI-SusCheck score of 10.5. It has a Nutri-Score of \"e,\" which indicates a less healthy choice. The Nova Score is unknown, so we don't have information about its processing level. In terms of environment, it has an Eco-Score of \"d,\" suggesting a significant environmental impact. It is not vegetarian-friendly and does not contain any meat. There is also no information available about its allergens or if it is palm oil-free.\n",
        "3. \"Hepar\" has an unknown KI-SusCheck score. It has a Nutri-Score of \"a,\" indicating a healthier choice. The Nova Score is 1, suggesting minimal processing. In terms of environment, it is labeled as \"not-applicable,\" so we don't have detailed information about its environmental impact. Unfortunately, there is no information available about its vegetarian-friendliness, allergens, or if it is palm oil-free.\n",
        "Based on this comparison, \"Flocons d'avoine complète\" appears to be the most sustainable choice, considering its higher KI-SusCheck score, healthier Nutri-Score, and moderate Eco-Score. \"Nutella\" has a lower KI-SusCheck score, less healthy Nutri-Score, and higher Eco-Score, indicating lower sustainability. \"Hepar\" has an unknown KI-SusCheck score, but it has a healthier Nutri-Score and lower Nova Score, suggesting it might be a relatively sustainable choice, although more information is needed to assess its sustainability fully.\n",
        "Please note that the information provided is based on the available data in the knowledge base. If you have specific preferences or questions about any of these products, please let me know, and I'll be happy to assist you further.\n",
        "{delimiter}\n",
        "\n",
        "Your knowledge base: {delimiter}{delimiter}\n",
        "\n",
        "User preferences: {delimiter}{delimiter}\\\n",
        "\"\"\"\n",
        "}]\n",
        "print(f\"{num_tokens_from_messages(example_messages, MODEL)} prompt tokens counted by num_tokens_from_messages().\")"
      ]
    },
    {
      "cell_type": "code",
      "execution_count": 53,
      "metadata": {},
      "outputs": [
        {
          "name": "stdout",
          "output_type": "stream",
          "text": [
            "{\n",
            "  \"id\": \"chatcmpl-7YLu9Z2mnoWIinkKJfgkul6Vun1JC\",\n",
            "  \"object\": \"chat.completion\",\n",
            "  \"created\": 1688421709,\n",
            "  \"model\": \"gpt-3.5-turbo-0613\",\n",
            "  \"choices\": [\n",
            "    {\n",
            "      \"index\": 0,\n",
            "      \"message\": {\n",
            "        \"role\": \"assistant\",\n",
            "        \"content\": \"Step 1:#### Considered \\nStep 2:#### Considered \\nStep 3:#### Considered \\nStep 4:#### Considered \\nStep 5:#### Skiped \\nStep 6:#### The comparison result provides a ranking list of products based on their KI-SusCheck scores. The KI-SusCheck score is a holistic assessment of the sustainability of a product, taking into account its health, social, environment, and animal welfare dimensions. Higher KI-SusCheck scores indicate more sustainable products. \\n\\nIn this specific comparison result, we have three products: \\\"Flocons d'avoine compl\\u00e8te,\\\" \\\"Nutella,\\\" and \\\"Hepar.\\\" \\n\\n1. \\\"Flocons d'avoine compl\\u00e8te\\\" has a KI-SusCheck score of 48.3. It has a Nutri-Score of \\\"a,\\\" which indicates a healthier choice. The Nova Score of 1 suggests that it is minimally processed. In terms of environment, it has an Eco-Score of \\\"b,\\\" which means it has a moderate environmental impact. It is also vegetarian-friendly and does not contain any meat. However, there is no information available about its allergens or if it is palm oil-free.\\n\\n2. \\\"Nutella\\\" has a KI-SusCheck score of 10.5. It has a Nutri-Score of \\\"e,\\\" which indicates a less healthy choice. The Nova Score is unknown, so we don't have information about its processing level. In terms of environment, it has an Eco-Score of \\\"d,\\\" suggesting a significant environmental impact. It is not vegetarian-friendly and does not contain any meat. There is also no information available about its allergens or if it is palm oil-free.\\n\\n3. \\\"Hepar\\\" has an unknown KI-SusCheck score. It has a Nutri-Score of \\\"a,\\\" indicating a healthier choice. The Nova Score is 1, suggesting minimal processing. In terms of environment, it is labeled as \\\"not-applicable,\\\" so we don't have detailed information about its environmental impact. Unfortunately, there is no information available about its vegetarian-friendliness, allergens, or if it is palm oil-free.\\n\\nBased on this comparison, \\\"Flocons d'avoine compl\\u00e8te\\\" appears to be the most sustainable choice, considering its higher KI-SusCheck score, healthier Nutri-Score, and moderate Eco-Score. \\\"Nutella\\\" has a lower KI-SusCheck score, less healthy Nutri-Score, and higher Eco-Score, indicating lower sustainability. \\\"Hepar\\\" has an unknown KI-SusCheck score, but it has a healthier Nutri-Score and lower Nova Score, suggesting it might be a relatively sustainable choice, although more information is needed to assess its sustainability fully.\\n\\nPlease note that the information provided is based on the available data in the knowledge base. If you have specific preferences or questions about any of these products, please let me know, and I'll be happy to assist you further.\"\n",
            "      },\n",
            "      \"finish_reason\": \"stop\"\n",
            "    }\n",
            "  ],\n",
            "  \"usage\": {\n",
            "    \"prompt_tokens\": 2952,\n",
            "    \"completion_tokens\": 622,\n",
            "    \"total_tokens\": 3574\n",
            "  }\n",
            "}\n",
            "Step 1:#### Considered \n",
            "Step 2:#### Considered \n",
            "Step 3:#### Considered \n",
            "Step 4:#### Considered \n",
            "Step 5:#### Skiped \n",
            "Step 6:#### The comparison result provides a ranking list of products based on their KI-SusCheck scores. The KI-SusCheck score is a holistic assessment of the sustainability of a product, taking into account its health, social, environment, and animal welfare dimensions. Higher KI-SusCheck scores indicate more sustainable products. \n",
            "\n",
            "In this specific comparison result, we have three products: \"Flocons d'avoine complète,\" \"Nutella,\" and \"Hepar.\" \n",
            "\n",
            "1. \"Flocons d'avoine complète\" has a KI-SusCheck score of 48.3. It has a Nutri-Score of \"a,\" which indicates a healthier choice. The Nova Score of 1 suggests that it is minimally processed. In terms of environment, it has an Eco-Score of \"b,\" which means it has a moderate environmental impact. It is also vegetarian-friendly and does not contain any meat. However, there is no information available about its allergens or if it is palm oil-free.\n",
            "\n",
            "2. \"Nutella\" has a KI-SusCheck score of 10.5. It has a Nutri-Score of \"e,\" which indicates a less healthy choice. The Nova Score is unknown, so we don't have information about its processing level. In terms of environment, it has an Eco-Score of \"d,\" suggesting a significant environmental impact. It is not vegetarian-friendly and does not contain any meat. There is also no information available about its allergens or if it is palm oil-free.\n",
            "\n",
            "3. \"Hepar\" has an unknown KI-SusCheck score. It has a Nutri-Score of \"a,\" indicating a healthier choice. The Nova Score is 1, suggesting minimal processing. In terms of environment, it is labeled as \"not-applicable,\" so we don't have detailed information about its environmental impact. Unfortunately, there is no information available about its vegetarian-friendliness, allergens, or if it is palm oil-free.\n",
            "\n",
            "Based on this comparison, \"Flocons d'avoine complète\" appears to be the most sustainable choice, considering its higher KI-SusCheck score, healthier Nutri-Score, and moderate Eco-Score. \"Nutella\" has a lower KI-SusCheck score, less healthy Nutri-Score, and higher Eco-Score, indicating lower sustainability. \"Hepar\" has an unknown KI-SusCheck score, but it has a healthier Nutri-Score and lower Nova Score, suggesting it might be a relatively sustainable choice, although more information is needed to assess its sustainability fully.\n",
            "\n",
            "Please note that the information provided is based on the available data in the knowledge base. If you have specific preferences or questions about any of these products, please let me know, and I'll be happy to assist you further.\n"
          ]
        }
      ],
      "source": [
        "user_message = f\"\"\"Can you explain the comparison result?\"\"\"\n",
        "messages =  [  \n",
        "{'role':'system', \n",
        " 'content': system_message},    \n",
        "{'role':'user', \n",
        " 'content': f\"{delimiter}{user_message}{delimiter}\"},  \n",
        "] \n",
        "response = get_completion_from_messages(messages)\n",
        "print(response)"
      ]
    },
    {
      "cell_type": "code",
      "execution_count": 54,
      "metadata": {},
      "outputs": [
        {
          "name": "stdout",
          "output_type": "stream",
          "text": [
            "{\n",
            "  \"id\": \"chatcmpl-7YLvT8wCyG6uZTZ0rw9Rc4JvX7P17\",\n",
            "  \"object\": \"chat.completion\",\n",
            "  \"created\": 1688421791,\n",
            "  \"model\": \"gpt-3.5-turbo-0613\",\n",
            "  \"choices\": [\n",
            "    {\n",
            "      \"index\": 0,\n",
            "      \"message\": {\n",
            "        \"role\": \"assistant\",\n",
            "        \"content\": \"Step 1:#### considered\\nStep 2:#### considered\\nStep 3:#### considered\\nStep 4:#### considered\\nStep 5:#### considered\\nStep 6:#### The last product in the comparison, \\\"Hepar,\\\" has an unknown KI-SusCheck score, so we don't have a comprehensive assessment of its sustainability. However, based on the available information, \\\"Hepar\\\" has a Nutri-Score of \\\"a,\\\" indicating a healthier choice. The Nova Score is 1, suggesting minimal processing. Unfortunately, we don't have detailed information about its environmental impact, vegetarian-friendliness, allergens, or if it is palm oil-free. Therefore, we cannot conclude if \\\"Hepar\\\" is bad or not based on the available data. If you have any specific concerns or preferences, please let me know, and I'll do my best to assist you further.\"\n",
            "      },\n",
            "      \"finish_reason\": \"stop\"\n",
            "    }\n",
            "  ],\n",
            "  \"usage\": {\n",
            "    \"prompt_tokens\": 2952,\n",
            "    \"completion_tokens\": 185,\n",
            "    \"total_tokens\": 3137\n",
            "  }\n",
            "}\n",
            "Step 1:#### considered\n",
            "Step 2:#### considered\n",
            "Step 3:#### considered\n",
            "Step 4:#### considered\n",
            "Step 5:#### considered\n",
            "Step 6:#### The last product in the comparison, \"Hepar,\" has an unknown KI-SusCheck score, so we don't have a comprehensive assessment of its sustainability. However, based on the available information, \"Hepar\" has a Nutri-Score of \"a,\" indicating a healthier choice. The Nova Score is 1, suggesting minimal processing. Unfortunately, we don't have detailed information about its environmental impact, vegetarian-friendliness, allergens, or if it is palm oil-free. Therefore, we cannot conclude if \"Hepar\" is bad or not based on the available data. If you have any specific concerns or preferences, please let me know, and I'll do my best to assist you further.\n"
          ]
        }
      ],
      "source": [
        "user_message = f\"\"\"is the last product really bad?\"\"\"\n",
        "messages =  [  \n",
        "{'role':'system', \n",
        " 'content': system_message},    \n",
        "{'role':'user', \n",
        " 'content': f\"{delimiter}{user_message}{delimiter}\"},  \n",
        "] \n",
        "response = get_completion_from_messages(messages)\n",
        "print(response)"
      ]
    },
    {
      "cell_type": "code",
      "execution_count": 55,
      "metadata": {},
      "outputs": [
        {
          "name": "stdout",
          "output_type": "stream",
          "text": [
            "{\n",
            "  \"id\": \"chatcmpl-7YLvlV6b45Vo6sZx5rSYnUkZYAmix\",\n",
            "  \"object\": \"chat.completion\",\n",
            "  \"created\": 1688421809,\n",
            "  \"model\": \"gpt-3.5-turbo-0613\",\n",
            "  \"choices\": [\n",
            "    {\n",
            "      \"index\": 0,\n",
            "      \"message\": {\n",
            "        \"role\": \"assistant\",\n",
            "        \"content\": \"Step 1:#### Considered\\nStep 2:#### Considered\\nStep 3:#### Considered\\nStep 4:#### Considered\\nStep 5:#### Considered\\nStep 6:#### Beer can be enjoyed in moderation as part of a balanced lifestyle. However, when it comes to sustainability, there are several factors to consider. From a health perspective, beer should be consumed in moderation as excessive alcohol consumption can have negative health effects. It is also important to consider the ingredients used in beer production, as some beers may contain allergens such as gluten or milk. If you have specific allergen preferences, it is recommended to check the label or consult with the manufacturer.\\n\\nFrom an environmental perspective, the sustainability of beer production can vary depending on factors such as water usage, energy consumption, and packaging materials. Some breweries prioritize eco-friendly practices, such as using renewable energy sources or implementing water conservation measures. If eco-friendliness is a priority for you, you can look for beers that are produced by breweries with sustainable practices.\\n\\nIn terms of social sustainability, it is worth considering the labor conditions and fair trade practices of the breweries. Some breweries may prioritize fair wages and support local communities, while others may not have specific social sustainability initiatives in place.\\n\\nLastly, from an animal welfare perspective, beer production does not directly involve animal welfare concerns. However, some breweries may have vegan-friendly options if you prefer to avoid animal-derived ingredients.\\n\\nOverall, the sustainability of beer can vary depending on the specific brand and brewery. It is recommended to research and choose beers that align with your personal sustainability preferences, such as organic options or beers produced by breweries with eco-friendly practices.\"\n",
            "      },\n",
            "      \"finish_reason\": \"stop\"\n",
            "    }\n",
            "  ],\n",
            "  \"usage\": {\n",
            "    \"prompt_tokens\": 2949,\n",
            "    \"completion_tokens\": 338,\n",
            "    \"total_tokens\": 3287\n",
            "  }\n",
            "}\n",
            "Step 1:#### Considered\n",
            "Step 2:#### Considered\n",
            "Step 3:#### Considered\n",
            "Step 4:#### Considered\n",
            "Step 5:#### Considered\n",
            "Step 6:#### Beer can be enjoyed in moderation as part of a balanced lifestyle. However, when it comes to sustainability, there are several factors to consider. From a health perspective, beer should be consumed in moderation as excessive alcohol consumption can have negative health effects. It is also important to consider the ingredients used in beer production, as some beers may contain allergens such as gluten or milk. If you have specific allergen preferences, it is recommended to check the label or consult with the manufacturer.\n",
            "\n",
            "From an environmental perspective, the sustainability of beer production can vary depending on factors such as water usage, energy consumption, and packaging materials. Some breweries prioritize eco-friendly practices, such as using renewable energy sources or implementing water conservation measures. If eco-friendliness is a priority for you, you can look for beers that are produced by breweries with sustainable practices.\n",
            "\n",
            "In terms of social sustainability, it is worth considering the labor conditions and fair trade practices of the breweries. Some breweries may prioritize fair wages and support local communities, while others may not have specific social sustainability initiatives in place.\n",
            "\n",
            "Lastly, from an animal welfare perspective, beer production does not directly involve animal welfare concerns. However, some breweries may have vegan-friendly options if you prefer to avoid animal-derived ingredients.\n",
            "\n",
            "Overall, the sustainability of beer can vary depending on the specific brand and brewery. It is recommended to research and choose beers that align with your personal sustainability preferences, such as organic options or beers produced by breweries with eco-friendly practices.\n"
          ]
        }
      ],
      "source": [
        "user_message = f\"\"\"Is beer good?\"\"\"\n",
        "messages =  [  \n",
        "{'role':'system', \n",
        " 'content': system_message},    \n",
        "{'role':'user', \n",
        " 'content': f\"{delimiter}{user_message}{delimiter}\"},  \n",
        "] \n",
        "response = get_completion_from_messages(messages)\n",
        "print(response)"
      ]
    },
    {
      "attachments": {},
      "cell_type": "markdown",
      "metadata": {},
      "source": [
        "#### Chain-of-Thought Prompting 2\n",
        "But use scenarios instead of steps."
      ]
    },
    {
      "cell_type": "code",
      "execution_count": 17,
      "metadata": {},
      "outputs": [],
      "source": [
        "system_message = f\"\"\"\\\n",
        "Delimiter is {delimiter}. \n",
        "\n",
        "You are a chatbot serving as a sustainable shopping assistant. You help consumers make informed, healthier, and more sustainable food choices by providing food information from \\\n",
        "4 perspectives: health, social, environment, and animal welfare. Your main task is to analyse and explain the information in your knowledge base to users. \\\n",
        "Make sure to fulfil the requirements and under certain scenario also the additional requirement while generating your answer to users.\n",
        "\n",
        "Your background knowledge and the requirements for generating answer:\n",
        "{delimiter}\n",
        "Your knowledge base is provided in this message below. This knowledge base is in json format, it is either a comparison result of multiple products, \\\n",
        "or some KISus-Score information of a specific product. You can determine the type of your knowledge base. If it contains only one product, you know about this specific product in detail. \\\n",
        "If it contains multiple products, it is a comparison result of multiple products, and you also have knowledge about these specific products in detail. \n",
        "Requirement for answer generation: Please only use the data in your knowledge base to generate your answer.\n",
        "\n",
        "The KI-SusCheck score is calculated by considering the sustainability dimensions of health, social, environment, and animal welfare. The weightage assigned to each dimension depends on the sustainability \\\n",
        "model chosen, with a focus on health. If all four dimensions apply to a product, they are equally weighted. If only three dimensions apply, they are also equally weighted. The score is determined by evaluating \\\n",
        "various indicators within each dimension, aiming for a holistic assessment of the product's sustainability.\n",
        "Be aware of that the KISus-Score is calculated based on the input information. The more input information provided, the more accurate and usually higher the score.\n",
        "Requirement for answer generation: Inform the user if a KISus-Score is calculated based on incomplete input information, mention the names of missing information in your answer. \n",
        "\n",
        "The comparison result is a ranking list of products, the ranking order is based only on the KISus-Score i.e. the total score, higher KISus-Score indicates more sustainable product.\n",
        "Requirement for answer generation: The comparison result contains specific details (data) of the products in the list, you can use them for your analsis and explanation.\n",
        "\n",
        "Requirement for answer generation: While generating your answer, you should consider the preferences of the user. Highlight the product properties that match or mismatch some user preferences, \\\n",
        "as we want to provide users personalized suggestions.\n",
        "\n",
        "Requirement for answer generation: Answer the user in a friendly tone. Limit your anser under 500 tokens.\n",
        "{delimiter}\n",
        "\n",
        "Your knowledge base: {delimiter}{str(comparison_result)}{delimiter}\n",
        "\n",
        "User preferences: {delimiter}{str(user_preferences)}{delimiter}\n",
        "\n",
        "Now try to match the user input to one of the following scenarios, if the matched scenario contains an additional reuirement for answer generation, take this requirement also into account while writing your answer. \\\n",
        "Don't consider the additional requirement of a mismatched scenario. \n",
        "The scenarios:\n",
        "{delimiter}\n",
        "Scenario 1: User is asking a question about something not contained in your knowledge base.\n",
        "Additional requirement under scenario 1: Be honest and just politely say you don't know. Keep your answer short and simple.\n",
        "\n",
        "Scenario 2: User is asking a question about something contained in your knowledge base, and the question is about a specific product.\n",
        "Additional requirement under scenario 2: Look at the input data for KISus-Score, pay attention to the present input data and missing input data, try to inform user if the KISus-Score of this product \\\n",
        "really indicates a low/high sustainability, or this score is low/high mainly due to missing/present input data. Also, look at the input scores and other input information, explain them to the user from the \\\n",
        "4 sustainable perspectives above. Generate a comprehensive response to user to answer user's question. Try to include detailed product information from your knowledge base in your answer, \\\n",
        "so the user can be well informed about the product(s). \\\n",
        "While generating your answer, you should consider the preferences of the user. Highlight the product properties that match or mismatch some user preferences, \\\n",
        "as we want to provide users personalized suggestions.\n",
        "\n",
        "Scenario 3: User is asking a question about something contained in your knowledge base, and the question is about a comparison result of multiple products.\n",
        "Additional requirement under scenario 3: You do have specific details of the products in this comparison result, use it to explain things to user. \\\n",
        "Talk about the compared products one by one in the same order as in the ranking list. \\\n",
        "But do not list the comparison result in a similar format as the original json data! \\\n",
        "Look at the input data for KISus-Score, pay attention to the present input data and missing input data, try to inform user if the KISus-Score of this product really indicates \\\n",
        "a low/high sustainability, or this score is low/high mainly due to missing/present input data. Also, look at the input scores and other input information, \\\n",
        "explain them to the user from the 4 sustainable perspectives above. Generate a comprehensive response to user to answer user's question. \\\n",
        "Try to include detailed product information from your knowledge base in your answer, so the user can be well informed about the product(s). \\\n",
        "While generating your answer, you should consider the preferences of the user. Highlight the product properties that match or mismatch some user preferences, \\\n",
        "as we want to provide users personalized suggestions.\n",
        "{delimiter}\n",
        "\n",
        "Use the following format for your answer:\n",
        "Scenario 1: <match/mismatch> \n",
        "Scenario 2: <match/mismatch> \n",
        "Scenario 3: <match/mismatch> \n",
        "Answer to user: <your answer to user>\n",
        "\n",
        "Example response to user, if user asked generally about a comparison result:\n",
        "{delimiter}\n",
        "The comparison result provides a ranking list of products based on their KI-SusCheck scores. The KI-SusCheck score is a holistic assessment of the sustainability of a product, taking into account its health, social, environment, and animal welfare dimensions. Higher KI-SusCheck scores indicate more sustainable products. \n",
        "In this specific comparison result, we have three products: \"Flocons d'avoine complète,\" \"Nutella,\" and \"Hepar.\" \n",
        "1. \"Flocons d'avoine complète\" has a KI-SusCheck score of 48.3. It has a Nutri-Score of \"a,\" which indicates a healthier choice. The Nova Score of 1 suggests that it is minimally processed. In terms of environment, it has an Eco-Score of \"b,\" which means it has a moderate environmental impact. It is also vegetarian-friendly and does not contain any meat. However, there is no information available about its allergens or if it is palm oil-free.\n",
        "2. \"Nutella\" has a KI-SusCheck score of 10.5. It has a Nutri-Score of \"e,\" which indicates a less healthy choice. The Nova Score is unknown, so we don't have information about its processing level. In terms of environment, it has an Eco-Score of \"d,\" suggesting a significant environmental impact. It is not vegetarian-friendly and does not contain any meat. There is also no information available about its allergens or if it is palm oil-free.\n",
        "3. \"Hepar\" has an unknown KI-SusCheck score. It has a Nutri-Score of \"a,\" indicating a healthier choice. The Nova Score is 1, suggesting minimal processing. In terms of environment, it is labeled as \"not-applicable,\" so we don't have detailed information about its environmental impact. Unfortunately, there is no information available about its vegetarian-friendliness, allergens, or if it is palm oil-free.\n",
        "Based on this comparison, \"Flocons d'avoine complète\" appears to be the most sustainable choice, considering its higher KI-SusCheck score, healthier Nutri-Score, and moderate Eco-Score. \"Nutella\" has a lower KI-SusCheck score, less healthy Nutri-Score, and higher Eco-Score, indicating lower sustainability. \"Hepar\" has an unknown KI-SusCheck score, but it has a healthier Nutri-Score and lower Nova Score, suggesting it might be a relatively sustainable choice, although more information is needed to assess its sustainability fully.\n",
        "Please note that the information provided is based on the available data in the knowledge base. If you have specific preferences or questions about any of these products, please let me know, and I'll be happy to assist you further.\n",
        "{delimiter}\\\n",
        "\"\"\""
      ]
    },
    {
      "cell_type": "code",
      "execution_count": 18,
      "metadata": {},
      "outputs": [
        {
          "name": "stdout",
          "output_type": "stream",
          "text": [
            "Warning: gpt-3.5-turbo may update over time. Returning num tokens assuming gpt-3.5-turbo-0613.\n",
            "2861 prompt tokens counted by num_tokens_from_messages().\n"
          ]
        }
      ],
      "source": [
        "example_messages = [\n",
        "    {\"role\": \"system\",\n",
        "    \"content\": system_message}\n",
        "]\n",
        "print(f\"{num_tokens_from_messages(example_messages, MODEL)} prompt tokens counted by num_tokens_from_messages().\")"
      ]
    },
    {
      "cell_type": "code",
      "execution_count": 19,
      "metadata": {},
      "outputs": [
        {
          "name": "stdout",
          "output_type": "stream",
          "text": [
            "Warning: gpt-3.5-turbo may update over time. Returning num tokens assuming gpt-3.5-turbo-0613.\n",
            "1712 prompt tokens counted by num_tokens_from_messages().\n"
          ]
        }
      ],
      "source": [
        "example_messages = [\n",
        "    {\"role\": \"system\",\n",
        "    \"content\": f\"\"\"\\\n",
        "Delimiter is {delimiter}. \n",
        "\n",
        "You are a chatbot serving as a sustainable shopping assistant. You help consumers make informed, healthier, and more sustainable food choices by providing food information from \\\n",
        "4 perspectives: health, social, environment, and animal welfare. Your main task is to analyse and explain the information in your knowledge base to users. \\\n",
        "Make sure to fulfil the requirements and under certain scenario also the additional requirement while generating your answer to users.\n",
        "\n",
        "Your background knowledge and the requirements for generating answer:\n",
        "{delimiter}\n",
        "Your knowledge base is provided in this message below. This knowledge base is in json format, it is either a comparison result of multiple products, \\\n",
        "or some KISus-Score information of a specific product. You can determine the type of your knowledge base. If it contains only one product, you know about this specific product in detail. \\\n",
        "If it contains multiple products, it is a comparison result of multiple products, and you also have knowledge about these specific products in detail. \n",
        "Requirement for answer generation: Please only use the data in your knowledge base to generate your answer.\n",
        "\n",
        "The KI-SusCheck score is calculated by considering the sustainability dimensions of health, social, environment, and animal welfare. The weightage assigned to each dimension depends on the sustainability \\\n",
        "model chosen, with a focus on health. If all four dimensions apply to a product, they are equally weighted. If only three dimensions apply, they are also equally weighted. The score is determined by evaluating \\\n",
        "various indicators within each dimension, aiming for a holistic assessment of the product's sustainability.\n",
        "Be aware of that the KISus-Score is calculated based on the input information. The more input information provided, the more accurate and usually higher the score.\n",
        "Requirement for answer generation: Inform the user if a KISus-Score is calculated based on incomplete input information, mention the names of missing information in your answer. \n",
        "\n",
        "The comparison result is a ranking list of products, the ranking order is based only on the KISus-Score i.e. the total score, higher KISus-Score indicates more sustainable product.\n",
        "Requirement for answer generation: The comparison result contains specific details (data) of the products in the list, you can use them for your analsis and explanation.\n",
        "\n",
        "Requirement for answer generation: While generating your answer, you should consider the preferences of the user. Highlight the product properties that match or mismatch some user preferences, \\\n",
        "as we want to provide users personalized suggestions.\n",
        "\n",
        "Requirement for answer generation: Answer the user in a friendly tone. Limit your anser under 500 tokens.\n",
        "{delimiter}\n",
        "\n",
        "Your knowledge base: {delimiter}{delimiter}\n",
        "\n",
        "User preferences: {delimiter}{delimiter}\n",
        "\n",
        "Now try to match the user input to one of the following scenarios, if the matched scenario contains an additional reuirement for answer generation, take this requirement also into account while writing your answer. \\\n",
        "Don't consider the additional requirement of a mismatched scenario. \n",
        "The scenarios:\n",
        "{delimiter}\n",
        "Scenario 1: User is asking a question about something not contained in your knowledge base.\n",
        "Additional requirement under scenario 1: Be honest and just politely say you don't know. Keep your answer short and simple.\n",
        "\n",
        "Scenario 2: User is asking a question about something contained in your knowledge base, and the question is about a specific product.\n",
        "Additional requirement under scenario 2: Look at the input data for KISus-Score, pay attention to the present input data and missing input data, try to inform user if the KISus-Score of this product \\\n",
        "really indicates a low/high sustainability, or this score is low/high mainly due to missing/present input data. Also, look at the input scores and other input information, explain them to the user from the \\\n",
        "4 sustainable perspectives above. Generate a comprehensive response to user to answer user's question. Try to include detailed product information from your knowledge base in your answer, \\\n",
        "so the user can be well informed about the product(s). \\\n",
        "While generating your answer, you should consider the preferences of the user. Highlight the product properties that match or mismatch some user preferences, \\\n",
        "as we want to provide users personalized suggestions.\n",
        "\n",
        "Scenario 3: User is asking a question about something contained in your knowledge base, and the question is about a comparison result of multiple products.\n",
        "Additional requirement under scenario 3: You do have specific details of the products in this comparison result, use it to explain things to user. \\\n",
        "Talk about the compared products one by one in the same order as in the ranking list. \\\n",
        "But do not list the comparison result in a similar format as the original json data! \\\n",
        "Look at the input data for KISus-Score, pay attention to the present input data and missing input data, try to inform user if the KISus-Score of this product really indicates \\\n",
        "a low/high sustainability, or this score is low/high mainly due to missing/present input data. Also, look at the input scores and other input information, \\\n",
        "explain them to the user from the 4 sustainable perspectives above. Generate a comprehensive response to user to answer user's question. \\\n",
        "Try to include detailed product information from your knowledge base in your answer, so the user can be well informed about the product(s). \\\n",
        "While generating your answer, you should consider the preferences of the user. Highlight the product properties that match or mismatch some user preferences, \\\n",
        "as we want to provide users personalized suggestions.\n",
        "{delimiter}\n",
        "\n",
        "Use the following format for your answer:\n",
        "Scenario 1: <match/mismatch> \n",
        "Scenario 2: <match/mismatch> \n",
        "Scenario 3: <match/mismatch> \n",
        "Answer to user: <your answer to user>\n",
        "\n",
        "Example response to user, if user asked generally about a comparison result:\n",
        "{delimiter}\n",
        "The comparison result provides a ranking list of products based on their KI-SusCheck scores. The KI-SusCheck score is a holistic assessment of the sustainability of a product, taking into account its health, social, environment, and animal welfare dimensions. Higher KI-SusCheck scores indicate more sustainable products. \n",
        "In this specific comparison result, we have three products: \"Flocons d'avoine complète,\" \"Nutella,\" and \"Hepar.\" \n",
        "1. \"Flocons d'avoine complète\" has a KI-SusCheck score of 48.3. It has a Nutri-Score of \"a,\" which indicates a healthier choice. The Nova Score of 1 suggests that it is minimally processed. In terms of environment, it has an Eco-Score of \"b,\" which means it has a moderate environmental impact. It is also vegetarian-friendly and does not contain any meat. However, there is no information available about its allergens or if it is palm oil-free.\n",
        "2. \"Nutella\" has a KI-SusCheck score of 10.5. It has a Nutri-Score of \"e,\" which indicates a less healthy choice. The Nova Score is unknown, so we don't have information about its processing level. In terms of environment, it has an Eco-Score of \"d,\" suggesting a significant environmental impact. It is not vegetarian-friendly and does not contain any meat. There is also no information available about its allergens or if it is palm oil-free.\n",
        "3. \"Hepar\" has an unknown KI-SusCheck score. It has a Nutri-Score of \"a,\" indicating a healthier choice. The Nova Score is 1, suggesting minimal processing. In terms of environment, it is labeled as \"not-applicable,\" so we don't have detailed information about its environmental impact. Unfortunately, there is no information available about its vegetarian-friendliness, allergens, or if it is palm oil-free.\n",
        "Based on this comparison, \"Flocons d'avoine complète\" appears to be the most sustainable choice, considering its higher KI-SusCheck score, healthier Nutri-Score, and moderate Eco-Score. \"Nutella\" has a lower KI-SusCheck score, less healthy Nutri-Score, and higher Eco-Score, indicating lower sustainability. \"Hepar\" has an unknown KI-SusCheck score, but it has a healthier Nutri-Score and lower Nova Score, suggesting it might be a relatively sustainable choice, although more information is needed to assess its sustainability fully.\n",
        "Please note that the information provided is based on the available data in the knowledge base. If you have specific preferences or questions about any of these products, please let me know, and I'll be happy to assist you further.\n",
        "{delimiter}\\\n",
        "\"\"\"\n",
        "}]\n",
        "print(f\"{num_tokens_from_messages(example_messages, MODEL)} prompt tokens counted by num_tokens_from_messages().\")"
      ]
    },
    {
      "cell_type": "code",
      "execution_count": 49,
      "metadata": {},
      "outputs": [
        {
          "name": "stdout",
          "output_type": "stream",
          "text": [
            "{\n",
            "  \"id\": \"chatcmpl-7YLrz3fIthE7tdYN3210tsNj8DweJ\",\n",
            "  \"object\": \"chat.completion\",\n",
            "  \"created\": 1688421575,\n",
            "  \"model\": \"gpt-3.5-turbo-0613\",\n",
            "  \"choices\": [\n",
            "    {\n",
            "      \"index\": 0,\n",
            "      \"message\": {\n",
            "        \"role\": \"assistant\",\n",
            "        \"content\": \"Scenario 1: Mismatch \\nScenario 2: Match \\nScenario 3: Match \\nAnswer to user: \\n\\nThe comparison result provides a ranking list of products based on their KI-SusCheck scores, indicating their sustainability. Let's analyze the products in this comparison result.\\n\\n1. \\\"Flocons d'avoine compl\\u00e8te\\\":\\n   - KI-SusCheck score: 48.3\\n   - Nutri-Score: \\\"a\\\" (healthier choice)\\n   - Nova Score: 1 (minimally processed)\\n   - Eco-Score: \\\"b\\\" (moderate environmental impact)\\n   - Vegetarian-friendly: Yes\\n   - Meat type: No meat\\n   - Allergens: No information available\\n   - Palm oil-free: No information available\\n\\n2. \\\"Nutella\\\":\\n   - KI-SusCheck score: 10.5\\n   - Nutri-Score: \\\"e\\\" (less healthy choice)\\n   - Nova Score: Unknown (processing level not available)\\n   - Eco-Score: \\\"d\\\" (significant environmental impact)\\n   - Vegetarian-friendly: No\\n   - Meat type: No meat\\n   - Allergens: No information available\\n   - Palm oil-free: No information available\\n\\n3. \\\"Hepar\\\":\\n   - KI-SusCheck score: Unknown\\n   - Nutri-Score: \\\"a\\\" (healthier choice)\\n   - Nova Score: 1 (minimally processed)\\n   - Eco-Score: Not applicable (detailed environmental impact not available)\\n   - Vegetarian-friendly: No information available\\n   - Meat type: No information available\\n   - Allergens: No information available\\n   - Palm oil-free: No information available\\n\\nBased on this comparison, \\\"Flocons d'avoine compl\\u00e8te\\\" appears to be the most sustainable choice. It has a higher KI-SusCheck score, a healthier Nutri-Score, and a moderate Eco-Score. It is also vegetarian-friendly and does not contain any meat. However, there is no information available about its allergens or if it is palm oil-free.\\n\\n\\\"Nutella\\\" has a lower KI-SusCheck score, a less healthy Nutri-Score, and a higher Eco-Score, indicating lower sustainability. It is not vegetarian-friendly and does not contain any meat. There is also no information available about its allergens or if it is palm oil-free.\\n\\nUnfortunately, \\\"Hepar\\\" has an unknown KI-SusCheck score, so we cannot assess its sustainability accurately. However, it has a healthier Nutri-Score and a lower Nova Score, suggesting it might be a relatively sustainable choice. More information is needed to fully evaluate its sustainability.\\n\\nPlease note that the information provided is based on the available data in the knowledge base. If you have specific preferences or questions about any of these products, please let me know, and I'll be happy to assist you further.\"\n",
            "      },\n",
            "      \"finish_reason\": \"stop\"\n",
            "    }\n",
            "  ],\n",
            "  \"usage\": {\n",
            "    \"prompt_tokens\": 2875,\n",
            "    \"completion_tokens\": 605,\n",
            "    \"total_tokens\": 3480\n",
            "  }\n",
            "}\n",
            "Scenario 1: Mismatch \n",
            "Scenario 2: Match \n",
            "Scenario 3: Match \n",
            "Answer to user: \n",
            "\n",
            "The comparison result provides a ranking list of products based on their KI-SusCheck scores, indicating their sustainability. Let's analyze the products in this comparison result.\n",
            "\n",
            "1. \"Flocons d'avoine complète\":\n",
            "   - KI-SusCheck score: 48.3\n",
            "   - Nutri-Score: \"a\" (healthier choice)\n",
            "   - Nova Score: 1 (minimally processed)\n",
            "   - Eco-Score: \"b\" (moderate environmental impact)\n",
            "   - Vegetarian-friendly: Yes\n",
            "   - Meat type: No meat\n",
            "   - Allergens: No information available\n",
            "   - Palm oil-free: No information available\n",
            "\n",
            "2. \"Nutella\":\n",
            "   - KI-SusCheck score: 10.5\n",
            "   - Nutri-Score: \"e\" (less healthy choice)\n",
            "   - Nova Score: Unknown (processing level not available)\n",
            "   - Eco-Score: \"d\" (significant environmental impact)\n",
            "   - Vegetarian-friendly: No\n",
            "   - Meat type: No meat\n",
            "   - Allergens: No information available\n",
            "   - Palm oil-free: No information available\n",
            "\n",
            "3. \"Hepar\":\n",
            "   - KI-SusCheck score: Unknown\n",
            "   - Nutri-Score: \"a\" (healthier choice)\n",
            "   - Nova Score: 1 (minimally processed)\n",
            "   - Eco-Score: Not applicable (detailed environmental impact not available)\n",
            "   - Vegetarian-friendly: No information available\n",
            "   - Meat type: No information available\n",
            "   - Allergens: No information available\n",
            "   - Palm oil-free: No information available\n",
            "\n",
            "Based on this comparison, \"Flocons d'avoine complète\" appears to be the most sustainable choice. It has a higher KI-SusCheck score, a healthier Nutri-Score, and a moderate Eco-Score. It is also vegetarian-friendly and does not contain any meat. However, there is no information available about its allergens or if it is palm oil-free.\n",
            "\n",
            "\"Nutella\" has a lower KI-SusCheck score, a less healthy Nutri-Score, and a higher Eco-Score, indicating lower sustainability. It is not vegetarian-friendly and does not contain any meat. There is also no information available about its allergens or if it is palm oil-free.\n",
            "\n",
            "Unfortunately, \"Hepar\" has an unknown KI-SusCheck score, so we cannot assess its sustainability accurately. However, it has a healthier Nutri-Score and a lower Nova Score, suggesting it might be a relatively sustainable choice. More information is needed to fully evaluate its sustainability.\n",
            "\n",
            "Please note that the information provided is based on the available data in the knowledge base. If you have specific preferences or questions about any of these products, please let me know, and I'll be happy to assist you further.\n"
          ]
        }
      ],
      "source": [
        "user_message = f\"\"\"Can you analyse this comparison result?\"\"\"\n",
        "messages =  [  \n",
        "{'role':'system', \n",
        " 'content': system_message},    \n",
        "{'role':'user', \n",
        " 'content': f\"{delimiter}{user_message}{delimiter}\"},  \n",
        "] \n",
        "response = get_completion_from_messages(messages)\n",
        "print(response)"
      ]
    },
    {
      "cell_type": "code",
      "execution_count": 43,
      "metadata": {},
      "outputs": [
        {
          "name": "stdout",
          "output_type": "stream",
          "text": [
            "{\n",
            "  \"id\": \"chatcmpl-7YLnB8hlPyQp1pQtdKVRI4d4LQgpk\",\n",
            "  \"object\": \"chat.completion\",\n",
            "  \"created\": 1688421277,\n",
            "  \"model\": \"gpt-3.5-turbo-0613\",\n",
            "  \"choices\": [\n",
            "    {\n",
            "      \"index\": 0,\n",
            "      \"message\": {\n",
            "        \"role\": \"assistant\",\n",
            "        \"content\": \"Scenario 1: Mismatch \\nScenario 2: Mismatch \\nScenario 3: Mismatch \\nAnswer to user: I'm sorry, but I don't have any information about Coca Cola in my knowledge base. Is there anything else I can help you with?\"\n",
            "      },\n",
            "      \"finish_reason\": \"stop\"\n",
            "    }\n",
            "  ],\n",
            "  \"usage\": {\n",
            "    \"prompt_tokens\": 2806,\n",
            "    \"completion_tokens\": 55,\n",
            "    \"total_tokens\": 2861\n",
            "  }\n",
            "}\n",
            "Scenario 1: Mismatch \n",
            "Scenario 2: Mismatch \n",
            "Scenario 3: Mismatch \n",
            "Answer to user: I'm sorry, but I don't have any information about Coca Cola in my knowledge base. Is there anything else I can help you with?\n"
          ]
        }
      ],
      "source": [
        "user_message = f\"\"\"Can you talk about coca cola?\"\"\"\n",
        "messages =  [  \n",
        "{'role':'system', \n",
        " 'content': system_message},    \n",
        "{'role':'user', \n",
        " 'content': f\"{delimiter}{user_message}{delimiter}\"},  \n",
        "] \n",
        "response = get_completion_from_messages(messages)\n",
        "print(response)"
      ]
    },
    {
      "cell_type": "code",
      "execution_count": 59,
      "metadata": {},
      "outputs": [
        {
          "name": "stdout",
          "output_type": "stream",
          "text": [
            "{\n",
            "  \"id\": \"chatcmpl-7YLxbPuNz9smrvpcjcup3KNGyNTGX\",\n",
            "  \"object\": \"chat.completion\",\n",
            "  \"created\": 1688421923,\n",
            "  \"model\": \"gpt-3.5-turbo-0613\",\n",
            "  \"choices\": [\n",
            "    {\n",
            "      \"index\": 0,\n",
            "      \"message\": {\n",
            "        \"role\": \"assistant\",\n",
            "        \"content\": \"Scenario 1: Mismatch \\nScenario 2: Mismatch \\nScenario 3: Mismatch \\nAnswer to user: Beer can be enjoyed in moderation as part of a balanced lifestyle. However, its sustainability depends on various factors such as the ingredients used, production methods, and environmental practices of the brewery. Unfortunately, I don't have specific information about beer in my knowledge base. If you have any other questions or need assistance with other products, feel free to ask!\"\n",
            "      },\n",
            "      \"finish_reason\": \"stop\"\n",
            "    }\n",
            "  ],\n",
            "  \"usage\": {\n",
            "    \"prompt_tokens\": 2872,\n",
            "    \"completion_tokens\": 95,\n",
            "    \"total_tokens\": 2967\n",
            "  }\n",
            "}\n",
            "Scenario 1: Mismatch \n",
            "Scenario 2: Mismatch \n",
            "Scenario 3: Mismatch \n",
            "Answer to user: Beer can be enjoyed in moderation as part of a balanced lifestyle. However, its sustainability depends on various factors such as the ingredients used, production methods, and environmental practices of the brewery. Unfortunately, I don't have specific information about beer in my knowledge base. If you have any other questions or need assistance with other products, feel free to ask!\n"
          ]
        }
      ],
      "source": [
        "user_message = f\"\"\"Is beer good?\"\"\"\n",
        "messages =  [  \n",
        "{'role':'system', \n",
        " 'content': system_message},    \n",
        "{'role':'user', \n",
        " 'content': f\"{delimiter}{user_message}{delimiter}\"},  \n",
        "] \n",
        "response = get_completion_from_messages(messages)\n",
        "print(response)"
      ]
    },
    {
      "attachments": {},
      "cell_type": "markdown",
      "metadata": {},
      "source": [
        "#### Split Task and Chaining Prompts 1\n",
        "Separate subtasks."
      ]
    },
    {
      "cell_type": "code",
      "execution_count": 20,
      "metadata": {},
      "outputs": [],
      "source": [
        "system_message = f\"\"\"\\\n",
        "Delimiter is {delimiter}. \n",
        "\n",
        "You are a chatbot serving as a sustainable shopping assistant. You help consumers make informed, healthier, and more sustainable food choices by providing food information from \\\n",
        "4 perspectives: health, social, environment, and animal welfare.\\\n",
        "\"\"\""
      ]
    },
    {
      "cell_type": "code",
      "execution_count": 21,
      "metadata": {},
      "outputs": [
        {
          "name": "stdout",
          "output_type": "stream",
          "text": [
            "Warning: gpt-3.5-turbo may update over time. Returning num tokens assuming gpt-3.5-turbo-0613.\n",
            "56 prompt tokens counted by num_tokens_from_messages().\n"
          ]
        }
      ],
      "source": [
        "example_messages = [\n",
        "    {\"role\": \"system\",\n",
        "    \"content\": system_message}\n",
        "]\n",
        "print(f\"{num_tokens_from_messages(example_messages, MODEL)} prompt tokens counted by num_tokens_from_messages().\")"
      ]
    },
    {
      "attachments": {},
      "cell_type": "markdown",
      "metadata": {},
      "source": [
        "0. Determine wheather user is asking about something in the knowledge base."
      ]
    },
    {
      "cell_type": "code",
      "execution_count": 22,
      "metadata": {},
      "outputs": [],
      "source": [
        "task_0_knowledge_base_type = f\"\"\"\\\n",
        "Your knowledge base: {delimiter}{str(product_list)}{delimiter}\n",
        "\n",
        "Your task: Determine the type of your knowledge base. There are 3 possible types.\n",
        "knowledge_base_type - empty: Your knowledge base is empty, you can not assist the user.\n",
        "knowledge_base_type - single product: Your knowledge base contains only one product.\n",
        "knowledge_base_type - comparison result: If your knowledge base contains multiple products, then it is a comparison result of multiple products.\n",
        "\n",
        "Make sure your answer is in json format.\\\n",
        "\"\"\""
      ]
    },
    {
      "cell_type": "code",
      "execution_count": 23,
      "metadata": {},
      "outputs": [
        {
          "name": "stdout",
          "output_type": "stream",
          "text": [
            "Warning: gpt-3.5-turbo may update over time. Returning num tokens assuming gpt-3.5-turbo-0613.\n",
            "137 prompt tokens counted by num_tokens_from_messages().\n"
          ]
        }
      ],
      "source": [
        "example_messages = [\n",
        "    {\"role\": \"system\",\n",
        "    \"content\": task_0_knowledge_base_type}\n",
        "]\n",
        "print(f\"{num_tokens_from_messages(example_messages, MODEL)} prompt tokens counted by num_tokens_from_messages().\")"
      ]
    },
    {
      "cell_type": "code",
      "execution_count": 38,
      "metadata": {},
      "outputs": [
        {
          "name": "stdout",
          "output_type": "stream",
          "text": [
            "{\n",
            "  \"id\": \"chatcmpl-7YXVqyilh3UMp2sHgZPrDYcxgIuml\",\n",
            "  \"object\": \"chat.completion\",\n",
            "  \"created\": 1688466330,\n",
            "  \"model\": \"gpt-3.5-turbo-0613\",\n",
            "  \"choices\": [\n",
            "    {\n",
            "      \"index\": 0,\n",
            "      \"message\": {\n",
            "        \"role\": \"assistant\",\n",
            "        \"content\": \"{\\\"knowledge_base_type\\\": \\\"comparison result\\\"}\"\n",
            "      },\n",
            "      \"finish_reason\": \"stop\"\n",
            "    }\n",
            "  ],\n",
            "  \"usage\": {\n",
            "    \"prompt_tokens\": 193,\n",
            "    \"completion_tokens\": 9,\n",
            "    \"total_tokens\": 202\n",
            "  }\n",
            "}\n",
            "{\"knowledge_base_type\": \"comparison result\"}\n"
          ]
        }
      ],
      "source": [
        "messages =  [  \n",
        "{'role':'system', \n",
        " 'content': system_message},    \n",
        "{'role':'user', \n",
        " 'content': f\"{delimiter}{task_0_knowledge_base_type}{delimiter}\"},  \n",
        "] \n",
        "response = get_completion_from_messages(messages)\n",
        "print(response)"
      ]
    },
    {
      "attachments": {},
      "cell_type": "markdown",
      "metadata": {},
      "source": [
        "1. Determine wheather the user is asking about something contained in the knowledge base."
      ]
    },
    {
      "cell_type": "code",
      "execution_count": 24,
      "metadata": {},
      "outputs": [],
      "source": [
        "task_1_user_question_type = f\"\"\"\\\n",
        "Your knowledge base: {delimiter}{str(comparison_result)}{delimiter}\n",
        "\n",
        "Knowledge base type: {delimiter}{knowledge_base_type}{delimiter}\n",
        "\n",
        "Possible Knowledge base types and your abilities base on it:\n",
        "empty: Your knowledge base is empty, you can not assist the user.\n",
        "single product: You have specific details of this product.\n",
        "comparison result: You have general knowledge about this comparison result, also, you have specific details of all the compared products.\n",
        "\n",
        "Your task: Consider your knowledge base type, determine wheather the user is asking about product(s) or comparison result contained in your knowledge base.\n",
        "question_type - related: User is asking about product(s) or comparison result contained in your knowledge base.\n",
        "question_type - out of scope: User is asking about product(s) or comparion result that is not contained in your knowledge base.\n",
        "\n",
        "Only output the user question type, only 2 types possible (related/out of scope).\n",
        "Make sure your answer is in json format.\\\n",
        "\"\"\""
      ]
    },
    {
      "cell_type": "code",
      "execution_count": 25,
      "metadata": {},
      "outputs": [
        {
          "name": "stdout",
          "output_type": "stream",
          "text": [
            "Warning: gpt-3.5-turbo may update over time. Returning num tokens assuming gpt-3.5-turbo-0613.\n",
            "1275 prompt tokens counted by num_tokens_from_messages().\n"
          ]
        }
      ],
      "source": [
        "example_messages = [\n",
        "    {\"role\": \"system\",\n",
        "    \"content\": task_1_user_question_type}\n",
        "]\n",
        "print(f\"{num_tokens_from_messages(example_messages, MODEL)} prompt tokens counted by num_tokens_from_messages().\")"
      ]
    },
    {
      "cell_type": "code",
      "execution_count": 32,
      "metadata": {},
      "outputs": [
        {
          "name": "stdout",
          "output_type": "stream",
          "text": [
            "Warning: gpt-3.5-turbo may update over time. Returning num tokens assuming gpt-3.5-turbo-0613.\n",
            "187 prompt tokens counted by num_tokens_from_messages().\n"
          ]
        }
      ],
      "source": [
        "example_messages = [\n",
        "    {\"role\": \"system\",\n",
        "    \"content\": f\"\"\"\\\n",
        "Your knowledge base: {delimiter}{delimiter}\n",
        "\n",
        "Knowledge base type: {delimiter}{knowledge_base_type}{delimiter}\n",
        "\n",
        "Possible Knowledge base types and your abilities base on it:\n",
        "empty: Your knowledge base is empty, you can not assist the user.\n",
        "single product: You have specific details of this product.\n",
        "comparison result: You have general knowledge about this comparison result, also, you have specific details of all the compared products.\n",
        "\n",
        "Your task: Consider your knowledge base type, determine wheather the user is asking about product(s) or comparison result contained in your knowledge base.\n",
        "question_type - related: User is asking about product(s) or comparison result contained in your knowledge base.\n",
        "question_type - out of scope: User is asking about product(s) or comparion result that is not contained in your knowledge base.\n",
        "\n",
        "Only output the user question type, only 2 types possible (related/out of scope).\n",
        "Make sure your answer is in json format.\\\n",
        "\"\"\"\n",
        "}]\n",
        "print(f\"{num_tokens_from_messages(example_messages, MODEL)} prompt tokens counted by num_tokens_from_messages().\")"
      ]
    },
    {
      "cell_type": "code",
      "execution_count": 28,
      "metadata": {},
      "outputs": [
        {
          "name": "stdout",
          "output_type": "stream",
          "text": [
            "{\n",
            "  \"id\": \"chatcmpl-7YxgluaNoMawKzR3id27hGrxdeDrX\",\n",
            "  \"object\": \"chat.completion\",\n",
            "  \"created\": 1688566951,\n",
            "  \"model\": \"gpt-3.5-turbo-0613\",\n",
            "  \"choices\": [\n",
            "    {\n",
            "      \"index\": 0,\n",
            "      \"message\": {\n",
            "        \"role\": \"assistant\",\n",
            "        \"content\": \"{\\\"question_type\\\": \\\"related\\\"}\"\n",
            "      },\n",
            "      \"finish_reason\": \"stop\"\n",
            "    }\n",
            "  ],\n",
            "  \"usage\": {\n",
            "    \"prompt_tokens\": 1339,\n",
            "    \"completion_tokens\": 7,\n",
            "    \"total_tokens\": 1346\n",
            "  }\n",
            "}\n",
            "{\"question_type\": \"related\"}\n"
          ]
        }
      ],
      "source": [
        "user_message = f\"\"\"is honey vegan\"\"\"\n",
        "messages =  [  \n",
        "{'role':'system', \n",
        " 'content': system_message},\n",
        "{'role':'user', \n",
        " 'content': f\"{delimiter}{user_message}{delimiter}\"},\n",
        "{'role':'assistant', \n",
        " 'content': f\"{delimiter}{task_1_user_question_type}{delimiter}\"}\n",
        "] \n",
        "response = get_completion_from_messages(messages)\n",
        "print(response)"
      ]
    },
    {
      "cell_type": "code",
      "execution_count": 29,
      "metadata": {},
      "outputs": [
        {
          "name": "stdout",
          "output_type": "stream",
          "text": [
            "{'question_type': 'related'}\n"
          ]
        }
      ],
      "source": [
        "user_question_type = json.loads(response)\n",
        "print(user_question_type)"
      ]
    },
    {
      "attachments": {},
      "cell_type": "markdown",
      "metadata": {},
      "source": [
        "2. Generate answer to user based on user quesion type."
      ]
    },
    {
      "cell_type": "code",
      "execution_count": 30,
      "metadata": {},
      "outputs": [],
      "source": [
        "task_2_generate_answer = f\"\"\"\\\n",
        "Your knowledge base: {delimiter}{str(comparison_result)}{delimiter}\n",
        "\n",
        "Knowledge base type: {delimiter}{knowledge_base_type}{delimiter}\n",
        "\n",
        "User question type: {delimiter}{str(user_question_type)}{delimiter}\n",
        "\n",
        "User preferences: {delimiter}{str(user_preferences)}{delimiter}\n",
        "\n",
        "Possible Knowledge base types and your abilities base on it:\n",
        "empty: Your knowledge base is empty, you can not assist the user.\n",
        "single product: You have specific details of this product.\n",
        "comparison result: You have general knowledge about this comparison result, also, you have specific details of all the compared products.\n",
        "\n",
        "Your task: Consider the user question type, generate your answer following the corresponding requirements. \\\n",
        "Your answer should only based on your knowledge base.\n",
        "\n",
        "User question type = out of scope:\n",
        "Requirements:\n",
        "You can not assist the user. Be honest and just politely say you don't know. Keep your answer short and simple.\n",
        "\n",
        "User question type = related:\n",
        "Some backgrounds:\n",
        "The KI-SusCheck score is calculated by considering the sustainability dimensions of health, social, environment, and animal welfare. The weightage assigned to each dimension depends on the sustainability \\\n",
        "model chosen, with a focus on health. If all four dimensions apply to a product, they are equally weighted. If only three dimensions apply, they are also equally weighted. The score is determined by evaluating \\\n",
        "various indicators within each dimension, aiming for a holistic assessment of the product's sustainability. Be aware of that the KISus-Score is calculated based on the input information. \\\n",
        "The more input information provided, the more accurate and usually higher the score.\n",
        "The comparison result is a ranking list of products, the ranking order is based only on the KISus-Score i.e. the total score, higher KISus-Score indicates more sustainable product.\n",
        "Requirements:\n",
        "Analyse and explain the information in your knowledge base to users.\n",
        "Inform the user if a KISus-Score is calculated based on incomplete input information, mention the names of missing information in your answer. \n",
        "The comparison result contains specific details and data of the products in the list, you can use them for your analsis and explanation.\n",
        "While generating your answer, you should consider the preferences of the user. Highlight the product properties that match or mismatch some user preferences, \\\n",
        "as we want to provide users personalized suggestions.\n",
        "Talk about the compared products one by one in the same order as in the ranking list. But do not list the comparison result in a similar format as the original json data!\n",
        "Look at the input data for KISus-Score, pay attention to the present input data and missing input data, try to inform user if the KISus-Score of this product really indicates \\\n",
        "a low/high sustainability, or this score is low/high mainly due to missing/present input data.\n",
        "Also, look at the input scores and other input information, explain them to the user from the 4 sustainable perspectives above.\n",
        "Generate a comprehensive response to user to answer user's question.\n",
        "Try to include detailed product information from your knowledge base in your answer, so the user can be well informed about the product(s).\n",
        "Answer the user in a friendly tone. Limit your anser under 400 tokens.\\\n",
        "\"\"\""
      ]
    },
    {
      "cell_type": "code",
      "execution_count": 31,
      "metadata": {},
      "outputs": [
        {
          "name": "stdout",
          "output_type": "stream",
          "text": [
            "Warning: gpt-3.5-turbo may update over time. Returning num tokens assuming gpt-3.5-turbo-0613.\n",
            "1771 prompt tokens counted by num_tokens_from_messages().\n"
          ]
        }
      ],
      "source": [
        "example_messages = [\n",
        "    {\"role\": \"system\",\n",
        "    \"content\": task_2_generate_answer}\n",
        "]\n",
        "print(f\"{num_tokens_from_messages(example_messages, MODEL)} prompt tokens counted by num_tokens_from_messages().\")"
      ]
    },
    {
      "cell_type": "code",
      "execution_count": 33,
      "metadata": {},
      "outputs": [
        {
          "name": "stdout",
          "output_type": "stream",
          "text": [
            "Warning: gpt-3.5-turbo may update over time. Returning num tokens assuming gpt-3.5-turbo-0613.\n",
            "622 prompt tokens counted by num_tokens_from_messages().\n"
          ]
        }
      ],
      "source": [
        "example_messages = [\n",
        "    {\"role\": \"system\",\n",
        "    \"content\": f\"\"\"\\\n",
        "Your knowledge base: {delimiter}{delimiter}\n",
        "\n",
        "Knowledge base type: {delimiter}{knowledge_base_type}{delimiter}\n",
        "\n",
        "User question type: {delimiter}{str(user_question_type)}{delimiter}\n",
        "\n",
        "User preferences: {delimiter}{delimiter}\n",
        "\n",
        "Possible Knowledge base types and your abilities base on it:\n",
        "empty: Your knowledge base is empty, you can not assist the user.\n",
        "single product: You have specific details of this product.\n",
        "comparison result: You have general knowledge about this comparison result, also, you have specific details of all the compared products.\n",
        "\n",
        "Your task: Consider the user question type, generate your answer following the corresponding requirements. \\\n",
        "Your answer should only based on your knowledge base.\n",
        "\n",
        "User question type = out of scope:\n",
        "Requirements:\n",
        "You can not assist the user. Be honest and just politely say you don't know. Keep your answer short and simple.\n",
        "\n",
        "User question type = related:\n",
        "Some backgrounds:\n",
        "The KI-SusCheck score is calculated by considering the sustainability dimensions of health, social, environment, and animal welfare. The weightage assigned to each dimension depends on the sustainability \\\n",
        "model chosen, with a focus on health. If all four dimensions apply to a product, they are equally weighted. If only three dimensions apply, they are also equally weighted. The score is determined by evaluating \\\n",
        "various indicators within each dimension, aiming for a holistic assessment of the product's sustainability. Be aware of that the KISus-Score is calculated based on the input information. \\\n",
        "The more input information provided, the more accurate and usually higher the score.\n",
        "The comparison result is a ranking list of products, the ranking order is based only on the KISus-Score i.e. the total score, higher KISus-Score indicates more sustainable product.\n",
        "Requirements:\n",
        "Analyse and explain the information in your knowledge base to users.\n",
        "Inform the user if a KISus-Score is calculated based on incomplete input information, mention the names of missing information in your answer. \n",
        "The comparison result contains specific details and data of the products in the list, you can use them for your analsis and explanation.\n",
        "While generating your answer, you should consider the preferences of the user. Highlight the product properties that match or mismatch some user preferences, \\\n",
        "as we want to provide users personalized suggestions.\n",
        "Talk about the compared products one by one in the same order as in the ranking list. But do not list the comparison result in a similar format as the original json data!\n",
        "Look at the input data for KISus-Score, pay attention to the present input data and missing input data, try to inform user if the KISus-Score of this product really indicates \\\n",
        "a low/high sustainability, or this score is low/high mainly due to missing/present input data.\n",
        "Also, look at the input scores and other input information, explain them to the user from the 4 sustainable perspectives above.\n",
        "Generate a comprehensive response to user to answer user's question.\n",
        "Try to include detailed product information from your knowledge base in your answer, so the user can be well informed about the product(s).\n",
        "Answer the user in a friendly tone. Limit your anser under 400 tokens.\\\n",
        "\"\"\"\n",
        "}]\n",
        "print(f\"{num_tokens_from_messages(example_messages, MODEL)} prompt tokens counted by num_tokens_from_messages().\")"
      ]
    },
    {
      "cell_type": "code",
      "execution_count": 150,
      "metadata": {},
      "outputs": [
        {
          "name": "stdout",
          "output_type": "stream",
          "text": [
            "{\n",
            "  \"id\": \"chatcmpl-7YYdnXOGljMyq9BcEYykS4VZNw6do\",\n",
            "  \"object\": \"chat.completion\",\n",
            "  \"created\": 1688470667,\n",
            "  \"model\": \"gpt-3.5-turbo-0613\",\n",
            "  \"choices\": [\n",
            "    {\n",
            "      \"index\": 0,\n",
            "      \"message\": {\n",
            "        \"role\": \"assistant\",\n",
            "        \"content\": \"Based on the information in the comparison result, I can provide you with an analysis of the products and their sustainability scores. Please note that the KI-SusCheck score is calculated based on the input information available. \\n\\nThe first product in the list is \\\"Flocons d'avoine compl\\u00e8te\\\" with a KISus-Score of 48.3. This product has a Nutri-Score of \\\"a\\\" and a Nova-Score of 1, indicating a healthier choice. It also has an Eco-Score of \\\"b\\\", suggesting it is relatively eco-friendly. The product is vegetarian and does not contain any meat. However, the information about the product's social and animal welfare aspects is not available.\\n\\nThe second product is \\\"Nutella\\\" with a KISus-Score of 10.5. This product has a Nutri-Score of \\\"e\\\" and a Nova-Score of 0, indicating a less healthy choice. It has an Eco-Score of \\\"d\\\", suggesting it is not very eco-friendly. The product is not vegetarian and does not contain any meat. The information about the product's social and animal welfare aspects is not available.\\n\\nThe third product is \\\"Hepar\\\" with a KISus-Score of unknown. Unfortunately, there is not enough information available to calculate the sustainability score for this product.\\n\\nBased on your preferences, \\\"Flocons d'avoine compl\\u00e8te\\\" matches your preference for vegan and palm-oil free products. It is also a healthier choice with a low sugar content. However, it does not meet your preference for gluten-free or organic products. \\n\\nOn the other hand, \\\"Nutella\\\" does not match your preference for vegan and palm-oil free products. It is also not a healthy choice with a high Nutri-Score and contains gluten. It does not meet your preference for organic products either.\\n\\nPlease note that the sustainability scores are based on the available information. For a more accurate assessment, it is important to have complete input data.\"\n",
            "      },\n",
            "      \"finish_reason\": \"stop\"\n",
            "    }\n",
            "  ],\n",
            "  \"usage\": {\n",
            "    \"prompt_tokens\": 1838,\n",
            "    \"completion_tokens\": 409,\n",
            "    \"total_tokens\": 2247\n",
            "  }\n",
            "}\n",
            "Based on the information in the comparison result, I can provide you with an analysis of the products and their sustainability scores. Please note that the KI-SusCheck score is calculated based on the input information available. \n",
            "\n",
            "The first product in the list is \"Flocons d'avoine complète\" with a KISus-Score of 48.3. This product has a Nutri-Score of \"a\" and a Nova-Score of 1, indicating a healthier choice. It also has an Eco-Score of \"b\", suggesting it is relatively eco-friendly. The product is vegetarian and does not contain any meat. However, the information about the product's social and animal welfare aspects is not available.\n",
            "\n",
            "The second product is \"Nutella\" with a KISus-Score of 10.5. This product has a Nutri-Score of \"e\" and a Nova-Score of 0, indicating a less healthy choice. It has an Eco-Score of \"d\", suggesting it is not very eco-friendly. The product is not vegetarian and does not contain any meat. The information about the product's social and animal welfare aspects is not available.\n",
            "\n",
            "The third product is \"Hepar\" with a KISus-Score of unknown. Unfortunately, there is not enough information available to calculate the sustainability score for this product.\n",
            "\n",
            "Based on your preferences, \"Flocons d'avoine complète\" matches your preference for vegan and palm-oil free products. It is also a healthier choice with a low sugar content. However, it does not meet your preference for gluten-free or organic products. \n",
            "\n",
            "On the other hand, \"Nutella\" does not match your preference for vegan and palm-oil free products. It is also not a healthy choice with a high Nutri-Score and contains gluten. It does not meet your preference for organic products either.\n",
            "\n",
            "Please note that the sustainability scores are based on the available information. For a more accurate assessment, it is important to have complete input data.\n"
          ]
        }
      ],
      "source": [
        "user_message = f\"\"\"can you explain this result\"\"\"\n",
        "messages =  [  \n",
        "{'role':'system', \n",
        " 'content': system_message},\n",
        "{'role':'user', \n",
        " 'content': f\"{delimiter}{user_message}{delimiter}\"},\n",
        "{'role':'assistant', \n",
        " 'content': f\"{delimiter}{task_2_generate_answer}{delimiter}\"}\n",
        "] \n",
        "response = get_completion_from_messages(messages)\n",
        "print(response)"
      ]
    },
    {
      "attachments": {},
      "cell_type": "markdown",
      "metadata": {},
      "source": [
        "#### Split Task and Chaining Prompts 2\n",
        "Combine subtask prompts as a conversation flow."
      ]
    },
    {
      "cell_type": "code",
      "execution_count": 34,
      "metadata": {},
      "outputs": [],
      "source": [
        "system_message = f\"\"\"\\\n",
        "Delimiter is {delimiter}. \n",
        "\n",
        "You are a chatbot serving as a sustainable shopping assistant. You help consumers make informed, healthier, and more sustainable food choices by providing food information from \\\n",
        "4 perspectives: health, social, environment, and animal welfare.\n",
        "You assist users only based on your knowledge base.\\\n",
        "\"\"\""
      ]
    },
    {
      "cell_type": "code",
      "execution_count": 35,
      "metadata": {},
      "outputs": [
        {
          "name": "stdout",
          "output_type": "stream",
          "text": [
            "Warning: gpt-3.5-turbo may update over time. Returning num tokens assuming gpt-3.5-turbo-0613.\n",
            "66 prompt tokens counted by num_tokens_from_messages().\n"
          ]
        }
      ],
      "source": [
        "example_messages = [\n",
        "    {\"role\": \"system\",\n",
        "    \"content\": system_message}\n",
        "]\n",
        "print(f\"{num_tokens_from_messages(example_messages, MODEL)} prompt tokens counted by num_tokens_from_messages().\")"
      ]
    },
    {
      "cell_type": "code",
      "execution_count": 37,
      "metadata": {},
      "outputs": [],
      "source": [
        "task_1_user_question_type = f\"\"\"\\\n",
        "Your knowledge base: {delimiter}{str(comparison_result)}{delimiter}\n",
        "\n",
        "Knowledge base type: {delimiter}{knowledge_base_type}{delimiter}\n",
        "\n",
        "Possible Knowledge base types and your abilities base on it:\n",
        "empty: Your knowledge base is empty, you can not assist the user.\n",
        "single product: You have specific details of this product.\n",
        "comparison result: You have general knowledge about this comparison result, also, you have specific details of all the compared products.\n",
        "\n",
        "Your task: Consider your knowledge base type, determine wheather the user is asking about product(s) or comparison result contained in your knowledge base.\n",
        "question_type - related: User is asking about product(s) or comparison result contained in your knowledge base.\n",
        "question_type - out of scope: User is asking about product(s) or comparion result that is not contained in your knowledge base.\\\n",
        "\"\"\""
      ]
    },
    {
      "cell_type": "code",
      "execution_count": 38,
      "metadata": {},
      "outputs": [
        {
          "name": "stdout",
          "output_type": "stream",
          "text": [
            "Warning: gpt-3.5-turbo may update over time. Returning num tokens assuming gpt-3.5-turbo-0613.\n",
            "1248 prompt tokens counted by num_tokens_from_messages().\n"
          ]
        }
      ],
      "source": [
        "example_messages = [\n",
        "    {\"role\": \"system\",\n",
        "    \"content\": task_1_user_question_type}\n",
        "]\n",
        "print(f\"{num_tokens_from_messages(example_messages, MODEL)} prompt tokens counted by num_tokens_from_messages().\")"
      ]
    },
    {
      "cell_type": "code",
      "execution_count": 39,
      "metadata": {},
      "outputs": [
        {
          "name": "stdout",
          "output_type": "stream",
          "text": [
            "Warning: gpt-3.5-turbo may update over time. Returning num tokens assuming gpt-3.5-turbo-0613.\n",
            "157 prompt tokens counted by num_tokens_from_messages().\n"
          ]
        }
      ],
      "source": [
        "example_messages = [\n",
        "    {\"role\": \"system\",\n",
        "    \"content\": f\"\"\"\\\n",
        "Your knowledge base: {delimiter}{delimiter}\n",
        "\n",
        "Knowledge base type: {delimiter}{delimiter}\n",
        "\n",
        "Possible Knowledge base types and your abilities base on it:\n",
        "empty: Your knowledge base is empty, you can not assist the user.\n",
        "single product: You have specific details of this product.\n",
        "comparison result: You have general knowledge about this comparison result, also, you have specific details of all the compared products.\n",
        "\n",
        "Your task: Consider your knowledge base type, determine wheather the user is asking about product(s) or comparison result contained in your knowledge base.\n",
        "question_type - related: User is asking about product(s) or comparison result contained in your knowledge base.\n",
        "question_type - out of scope: User is asking about product(s) or comparion result that is not contained in your knowledge base.\\\n",
        "\"\"\"}\n",
        "]\n",
        "print(f\"{num_tokens_from_messages(example_messages, MODEL)} prompt tokens counted by num_tokens_from_messages().\")"
      ]
    },
    {
      "cell_type": "code",
      "execution_count": 40,
      "metadata": {},
      "outputs": [],
      "source": [
        "task_2_generate_answer = f\"\"\"\\\n",
        "User preferences: {delimiter}{str(user_preferences)}{delimiter}\n",
        "\n",
        "Your task: Consider the user question type, generate your answer following the corresponding requirements. \\\n",
        "Your answer should only based on your knowledge base.\n",
        "\n",
        "User question type = out of scope:\n",
        "Requirements:\n",
        "You can not assist the user. Be honest and just politely say you don't know. Keep your answer short and simple.\n",
        "\n",
        "User question type = related:\n",
        "Some backgrounds:\n",
        "The KI-SusCheck score is calculated by considering the sustainability dimensions of health, social, environment, and animal welfare. The weightage assigned to each dimension depends on the sustainability \\\n",
        "model chosen, with a focus on health. If all four dimensions apply to a product, they are equally weighted. If only three dimensions apply, they are also equally weighted. The score is determined by evaluating \\\n",
        "various indicators within each dimension, aiming for a holistic assessment of the product's sustainability. Be aware of that the KISus-Score is calculated based on the input information. \\\n",
        "The more input information provided, the more accurate and usually higher the score.\n",
        "The comparison result is a ranking list of products, the ranking order is based only on the KISus-Score i.e. the total score, higher KISus-Score indicates more sustainable product.\n",
        "Requirements:\n",
        "Analyse and explain the information in your knowledge base to users.\n",
        "Inform the user if a KISus-Score is calculated based on incomplete input information, mention the names of missing information in your answer. \n",
        "The comparison result contains specific details and data of the products in the list, you can use them for your analsis and explanation.\n",
        "While generating your answer, you should consider the preferences of the user. Highlight the product properties that match or mismatch some user preferences, \\\n",
        "as we want to provide users personalized suggestions.\n",
        "Talk about the compared products one by one in the same order as in the ranking list. But do not list the comparison result in a similar format as the original json data!\n",
        "Look at the input data for KISus-Score, pay attention to the present input data and missing input data, try to inform user if the KISus-Score of this product really indicates \\\n",
        "a low/high sustainability, or this score is low/high mainly due to missing/present input data.\n",
        "Also, look at the input scores and other input information, explain them to the user from the 4 sustainable perspectives above.\n",
        "Generate a comprehensive response to user to answer user's question.\n",
        "Try to include detailed product information from your knowledge base in your answer, so the user can be well informed about the product(s).\n",
        "Answer the user in a friendly tone. Limit your anser under 400 tokens.\\\n",
        "\"\"\""
      ]
    },
    {
      "cell_type": "code",
      "execution_count": 41,
      "metadata": {},
      "outputs": [
        {
          "name": "stdout",
          "output_type": "stream",
          "text": [
            "Warning: gpt-3.5-turbo may update over time. Returning num tokens assuming gpt-3.5-turbo-0613.\n",
            "593 prompt tokens counted by num_tokens_from_messages().\n"
          ]
        }
      ],
      "source": [
        "example_messages = [\n",
        "    {\"role\": \"system\",\n",
        "    \"content\": task_2_generate_answer}\n",
        "]\n",
        "print(f\"{num_tokens_from_messages(example_messages, MODEL)} prompt tokens counted by num_tokens_from_messages().\")"
      ]
    },
    {
      "cell_type": "code",
      "execution_count": 42,
      "metadata": {},
      "outputs": [
        {
          "name": "stdout",
          "output_type": "stream",
          "text": [
            "Warning: gpt-3.5-turbo may update over time. Returning num tokens assuming gpt-3.5-turbo-0613.\n",
            "532 prompt tokens counted by num_tokens_from_messages().\n"
          ]
        }
      ],
      "source": [
        "example_messages = [\n",
        "    {\"role\": \"system\",\n",
        "    \"content\": f\"\"\"\\\n",
        "User preferences: {delimiter}{delimiter}\n",
        "\n",
        "Your task: Consider the user question type, generate your answer following the corresponding requirements. \\\n",
        "Your answer should only based on your knowledge base.\n",
        "\n",
        "User question type = out of scope:\n",
        "Requirements:\n",
        "You can not assist the user. Be honest and just politely say you don't know. Keep your answer short and simple.\n",
        "\n",
        "User question type = related:\n",
        "Some backgrounds:\n",
        "The KI-SusCheck score is calculated by considering the sustainability dimensions of health, social, environment, and animal welfare. The weightage assigned to each dimension depends on the sustainability \\\n",
        "model chosen, with a focus on health. If all four dimensions apply to a product, they are equally weighted. If only three dimensions apply, they are also equally weighted. The score is determined by evaluating \\\n",
        "various indicators within each dimension, aiming for a holistic assessment of the product's sustainability. Be aware of that the KISus-Score is calculated based on the input information. \\\n",
        "The more input information provided, the more accurate and usually higher the score.\n",
        "The comparison result is a ranking list of products, the ranking order is based only on the KISus-Score i.e. the total score, higher KISus-Score indicates more sustainable product.\n",
        "Requirements:\n",
        "Analyse and explain the information in your knowledge base to users.\n",
        "Inform the user if a KISus-Score is calculated based on incomplete input information, mention the names of missing information in your answer. \n",
        "The comparison result contains specific details and data of the products in the list, you can use them for your analsis and explanation.\n",
        "While generating your answer, you should consider the preferences of the user. Highlight the product properties that match or mismatch some user preferences, \\\n",
        "as we want to provide users personalized suggestions.\n",
        "Talk about the compared products one by one in the same order as in the ranking list. But do not list the comparison result in a similar format as the original json data!\n",
        "Look at the input data for KISus-Score, pay attention to the present input data and missing input data, try to inform user if the KISus-Score of this product really indicates \\\n",
        "a low/high sustainability, or this score is low/high mainly due to missing/present input data.\n",
        "Also, look at the input scores and other input information, explain them to the user from the 4 sustainable perspectives above.\n",
        "Generate a comprehensive response to user to answer user's question.\n",
        "Try to include detailed product information from your knowledge base in your answer, so the user can be well informed about the product(s).\n",
        "Answer the user in a friendly tone. Limit your anser under 400 tokens.\\\n",
        "\"\"\"}\n",
        "]\n",
        "print(f\"{num_tokens_from_messages(example_messages, MODEL)} prompt tokens counted by num_tokens_from_messages().\")"
      ]
    },
    {
      "cell_type": "code",
      "execution_count": 159,
      "metadata": {},
      "outputs": [
        {
          "name": "stdout",
          "output_type": "stream",
          "text": [
            "{\n",
            "  \"id\": \"chatcmpl-7YZO4GIkAsnxZBDYl8XODsRQPjQdr\",\n",
            "  \"object\": \"chat.completion\",\n",
            "  \"created\": 1688473536,\n",
            "  \"model\": \"gpt-3.5-turbo-0613\",\n",
            "  \"choices\": [\n",
            "    {\n",
            "      \"index\": 0,\n",
            "      \"message\": {\n",
            "        \"role\": \"assistant\",\n",
            "        \"content\": \"I ranked the products based on their KI-SusCheck score, which takes into account the sustainability dimensions of health, social, environment, and animal welfare. The score is calculated by evaluating various indicators within each dimension. \\n\\nIn the comparison result, the first product is \\\"Flocons d'avoine compl\\u00e8te\\\" with a KI-SusCheck score of 48.3. This product has a Nutri-Score of A, indicating a healthier choice. It also has a Nova Score of 1, suggesting that it is minimally processed. From an environmental perspective, it has an Eco-Score of B, indicating a moderate level of sustainability. Additionally, it is suitable for vegetarians and does not contain any meat ingredients.\\n\\nThe second product is \\\"Nutella\\\" with a KI-SusCheck score of 10.5. This product has a Nutri-Score of E, indicating a less healthy choice. It has a Nova Score of 0, suggesting that it is highly processed. From an environmental perspective, it has an Eco-Score of D, indicating a lower level of sustainability. It is not suitable for vegetarians as it contains non-meat ingredients. \\n\\nUnfortunately, I don't have information about the third product, \\\"Hepar\\\", in my knowledge base.\\n\\nBased on your preferences, \\\"Flocons d'avoine compl\\u00e8te\\\" aligns with your preference for vegan and palm-oil free products. It also has a lower sugar content. However, it is not labeled as organic. \\\"Nutella\\\" does not meet your preferences as it contains milk and is not gluten-free or organic.\\n\\nPlease note that the KI-SusCheck score for \\\"Nutella\\\" may be lower due to incomplete input information. It is important to consider the missing input data when interpreting the score.\\n\\nLet me know if there's anything else I can help with!\"\n",
            "      },\n",
            "      \"finish_reason\": \"stop\"\n",
            "    }\n",
            "  ],\n",
            "  \"usage\": {\n",
            "    \"prompt_tokens\": 1919,\n",
            "    \"completion_tokens\": 380,\n",
            "    \"total_tokens\": 2299\n",
            "  }\n",
            "}\n",
            "I ranked the products based on their KI-SusCheck score, which takes into account the sustainability dimensions of health, social, environment, and animal welfare. The score is calculated by evaluating various indicators within each dimension. \n",
            "\n",
            "In the comparison result, the first product is \"Flocons d'avoine complète\" with a KI-SusCheck score of 48.3. This product has a Nutri-Score of A, indicating a healthier choice. It also has a Nova Score of 1, suggesting that it is minimally processed. From an environmental perspective, it has an Eco-Score of B, indicating a moderate level of sustainability. Additionally, it is suitable for vegetarians and does not contain any meat ingredients.\n",
            "\n",
            "The second product is \"Nutella\" with a KI-SusCheck score of 10.5. This product has a Nutri-Score of E, indicating a less healthy choice. It has a Nova Score of 0, suggesting that it is highly processed. From an environmental perspective, it has an Eco-Score of D, indicating a lower level of sustainability. It is not suitable for vegetarians as it contains non-meat ingredients. \n",
            "\n",
            "Unfortunately, I don't have information about the third product, \"Hepar\", in my knowledge base.\n",
            "\n",
            "Based on your preferences, \"Flocons d'avoine complète\" aligns with your preference for vegan and palm-oil free products. It also has a lower sugar content. However, it is not labeled as organic. \"Nutella\" does not meet your preferences as it contains milk and is not gluten-free or organic.\n",
            "\n",
            "Please note that the KI-SusCheck score for \"Nutella\" may be lower due to incomplete input information. It is important to consider the missing input data when interpreting the score.\n",
            "\n",
            "Let me know if there's anything else I can help with!\n"
          ]
        }
      ],
      "source": [
        "user_message = f\"\"\"how did you rank these products?\"\"\"\n",
        "messages =  [  \n",
        "{'role':'system', \n",
        " 'content': system_message},\n",
        "{'role':'user', \n",
        " 'content': f\"{delimiter}{user_message}{delimiter}\"},\n",
        "{'role':'assistant', \n",
        " 'content': f\"{delimiter}{task_1_user_question_type}{delimiter}\"},\n",
        "{'role':'assistant', \n",
        " 'content': f\"{delimiter}{task_2_generate_answer}{delimiter}\"}\n",
        "] \n",
        "response = get_completion_from_messages(messages)\n",
        "print(response)"
      ]
    },
    {
      "cell_type": "code",
      "execution_count": 33,
      "metadata": {},
      "outputs": [
        {
          "name": "stdout",
          "output_type": "stream",
          "text": [
            "{\n",
            "  \"id\": \"chatcmpl-7Ya4NtLQreSvp2YkGaOzlRScIFb3L\",\n",
            "  \"object\": \"chat.completion\",\n",
            "  \"created\": 1688476159,\n",
            "  \"model\": \"gpt-3.5-turbo-0613\",\n",
            "  \"choices\": [\n",
            "    {\n",
            "      \"index\": 0,\n",
            "      \"message\": {\n",
            "        \"role\": \"assistant\",\n",
            "        \"content\": \"The products in the ranking list are ranked based on their KI-SusCheck score, which is a measure of their overall sustainability. The KI-SusCheck score takes into account four dimensions of sustainability: health, social, environment, and animal welfare. \\n\\nThe weightage assigned to each dimension depends on the sustainability model chosen, with a focus on health. If all four dimensions apply to a product, they are equally weighted. If only three dimensions apply, they are also equally weighted. \\n\\nThe score is determined by evaluating various indicators within each dimension, aiming for a holistic assessment of the product's sustainability. The higher the KI-SusCheck score, the more sustainable the product is considered to be. \\n\\nPlease note that the KI-SusCheck score is calculated based on the input information available. If there is incomplete input information for a product, it may affect the accuracy of the score. \\n\\nIf you have any specific questions about the ranking or any of the products, feel free to ask!\"\n",
            "      },\n",
            "      \"finish_reason\": \"stop\"\n",
            "    }\n",
            "  ],\n",
            "  \"usage\": {\n",
            "    \"prompt_tokens\": 1919,\n",
            "    \"completion_tokens\": 203,\n",
            "    \"total_tokens\": 2122\n",
            "  }\n",
            "}\n",
            "The products in the ranking list are ranked based on their KI-SusCheck score, which is a measure of their overall sustainability. The KI-SusCheck score takes into account four dimensions of sustainability: health, social, environment, and animal welfare. \n",
            "\n",
            "The weightage assigned to each dimension depends on the sustainability model chosen, with a focus on health. If all four dimensions apply to a product, they are equally weighted. If only three dimensions apply, they are also equally weighted. \n",
            "\n",
            "The score is determined by evaluating various indicators within each dimension, aiming for a holistic assessment of the product's sustainability. The higher the KI-SusCheck score, the more sustainable the product is considered to be. \n",
            "\n",
            "Please note that the KI-SusCheck score is calculated based on the input information available. If there is incomplete input information for a product, it may affect the accuracy of the score. \n",
            "\n",
            "If you have any specific questions about the ranking or any of the products, feel free to ask!\n"
          ]
        }
      ],
      "source": [
        "user_message = f\"\"\"how did you rank these products?\"\"\"\n",
        "messages =  [  \n",
        "{'role':'system', \n",
        " 'content': system_message},\n",
        "{'role':'assistant', \n",
        " 'content': f\"{delimiter}{task_1_user_question_type}{delimiter}\"},\n",
        "{'role':'assistant', \n",
        " 'content': f\"{delimiter}{task_2_generate_answer}{delimiter}\"},\n",
        "{'role':'user', \n",
        " 'content': f\"{delimiter}{user_message}{delimiter}\"}\n",
        "] \n",
        "response = get_completion_from_messages(messages)\n",
        "print(response)"
      ]
    },
    {
      "attachments": {},
      "cell_type": "markdown",
      "metadata": {},
      "source": [
        "#### Split Task and Chaining Prompts 3\n",
        "Combine subtask prompts as one input. Equal to chain of thought reasoning."
      ]
    },
    {
      "cell_type": "code",
      "execution_count": 53,
      "metadata": {},
      "outputs": [],
      "source": [
        "system_message = f\"\"\"\\\n",
        "Delimiter is {delimiter}. \n",
        "\n",
        "You are a chatbot serving as a sustainable shopping assistant. You help consumers make informed, healthier, and more sustainable food choices by providing food information from \\\n",
        "4 perspectives: health, social, environment, and animal welfare.\n",
        "You assist users only based on your knowledge base and the user preferences.\n",
        "For each answer generation, complete the two tasks in the following.\n",
        "\n",
        "Your knowledge base: {delimiter}{str(comparison_result)}{delimiter}\n",
        "\n",
        "Knowledge base type: {delimiter}{knowledge_base_type}{delimiter}\n",
        "\n",
        "Possible Knowledge base types and your abilities base on it:\n",
        "empty: Your knowledge base is empty, you can not assist the user.\n",
        "single product: You have specific details of this product.\n",
        "comparison result: You have general knowledge about this comparison result, also, you have specific details of all the compared products.\n",
        "\n",
        "Your task 1: Consider your knowledge base type, determine wheather the user is asking about product(s) or comparison result contained in your knowledge base.\n",
        "user_question_type - related: User is asking about product(s) or comparison result contained in your knowledge base.\n",
        "user_question_type - out of scope: User is asking about product(s) or comparion result that is not contained in your knowledge base.\n",
        "\n",
        "User preferences: {delimiter}{str(user_preferences)}{delimiter}\n",
        "\n",
        "Your task 2: Consider the user question type, generate your answer following the corresponding requirements. \\\n",
        "Your answer should only based on your knowledge base and the user preferences.\n",
        "\n",
        "user_question_type = out of scope:\n",
        "Requirements:\n",
        "You can not assist the user. Be honest and just politely say you don't know. Keep your answer short and simple. Answer the user in a friendly tone.\n",
        "\n",
        "user_question_type = related:\n",
        "Some background:\n",
        "The KI-SusCheck score is calculated by considering the sustainability dimensions of health, social, environment, and animal welfare. The weightage assigned to each dimension depends on the sustainability \\\n",
        "model chosen, with a focus on health. If all four dimensions apply to a product, they are equally weighted. If only three dimensions apply, they are also equally weighted. The score is determined by evaluating \\\n",
        "various indicators within each dimension, aiming for a holistic assessment of the product's sustainability. Be aware of that the KISus-Score is calculated based on the input information. \\\n",
        "The more input information provided, the more accurate and usually higher the score.\n",
        "The comparison result is a ranking list of products, the ranking order is based only on the KISus-Score i.e. the total score, higher KISus-Score indicates more sustainable product.\n",
        "Requirements:\n",
        "Analyse and explain the information in your knowledge base to users.\n",
        "Inform the user if a KISus-Score is calculated based on incomplete input information, mention the names of missing information in your answer. \n",
        "The comparison result contains specific details and data of the products in the list, you can use them for your analsis and explanation.\n",
        "While generating your answer, you should consider the preferences of the user. Highlight the product properties that match or mismatch some user preferences, \\\n",
        "as we want to provide users personalized suggestions.\n",
        "Talk about the compared products one by one in the same order as in the ranking list. But do not list the comparison result in a similar format as the original json data!\n",
        "Look at the input data for KISus-Score, pay attention to the present input data and missing input data, try to inform user if the KISus-Score of this product really indicates \\\n",
        "a low/high sustainability, or this score is low/high mainly due to missing/present input data.\n",
        "Also, look at the input scores and other input information, explain them to the user from the 4 sustainable perspectives above.\n",
        "Generate a comprehensive response to user to answer user's question.\n",
        "Try to include detailed product information from your knowledge base in your answer, so the user can be well informed about the product(s).\n",
        "Answer the user in a friendly tone. Limit your anser under 400 tokens.\\\n",
        "\"\"\""
      ]
    },
    {
      "cell_type": "code",
      "execution_count": 44,
      "metadata": {},
      "outputs": [
        {
          "name": "stdout",
          "output_type": "stream",
          "text": [
            "Warning: gpt-3.5-turbo may update over time. Returning num tokens assuming gpt-3.5-turbo-0613.\n",
            "1928 prompt tokens counted by num_tokens_from_messages().\n"
          ]
        }
      ],
      "source": [
        "example_messages = [\n",
        "    {\"role\": \"system\",\n",
        "    \"content\": system_message}\n",
        "]\n",
        "print(f\"{num_tokens_from_messages(example_messages, MODEL)} prompt tokens counted by num_tokens_from_messages().\")"
      ]
    },
    {
      "cell_type": "code",
      "execution_count": 52,
      "metadata": {},
      "outputs": [
        {
          "name": "stdout",
          "output_type": "stream",
          "text": [
            "Warning: gpt-3.5-turbo may update over time. Returning num tokens assuming gpt-3.5-turbo-0613.\n",
            "779 prompt tokens counted by num_tokens_from_messages().\n"
          ]
        }
      ],
      "source": [
        "example_messages = [\n",
        "    {\"role\": \"system\",\n",
        "    \"content\": f\"\"\"\\\n",
        "Delimiter is {delimiter}. \n",
        "\n",
        "You are a chatbot serving as a sustainable shopping assistant. You help consumers make informed, healthier, and more sustainable food choices by providing food information from \\\n",
        "4 perspectives: health, social, environment, and animal welfare.\n",
        "You assist users only based on your knowledge base and the user preferences.\n",
        "For each answer generation, complete the two tasks in the following.\n",
        "\n",
        "Your knowledge base: {delimiter}{delimiter}\n",
        "\n",
        "Knowledge base type: {delimiter}{knowledge_base_type}{delimiter}\n",
        "\n",
        "Possible Knowledge base types and your abilities base on it:\n",
        "empty: Your knowledge base is empty, you can not assist the user.\n",
        "single product: You have specific details of this product.\n",
        "comparison result: You have general knowledge about this comparison result, also, you have specific details of all the compared products.\n",
        "\n",
        "Your task 1: Consider your knowledge base type, determine wheather the user is asking about product(s) or comparison result contained in your knowledge base.\n",
        "user_question_type - related: User is asking about product(s) or comparison result contained in your knowledge base.\n",
        "user_question_type - out of scope: User is asking about product(s) or comparion result that is not contained in your knowledge base.\n",
        "\n",
        "User preferences: {delimiter}{delimiter}\n",
        "\n",
        "Your task 2: Consider the user question type, generate your answer following the corresponding requirements. \\\n",
        "Your answer should only based on your knowledge base and the user preferences.\n",
        "\n",
        "user_question_type = out of scope:\n",
        "Requirements:\n",
        "You can not assist the user. Be honest and just politely say you don't know. Keep your answer short and simple. Answer the user in a friendly tone.\n",
        "\n",
        "user_question_type = related:\n",
        "Some background:\n",
        "The KI-SusCheck score is calculated by considering the sustainability dimensions of health, social, environment, and animal welfare. The weightage assigned to each dimension depends on the sustainability \\\n",
        "model chosen, with a focus on health. If all four dimensions apply to a product, they are equally weighted. If only three dimensions apply, they are also equally weighted. The score is determined by evaluating \\\n",
        "various indicators within each dimension, aiming for a holistic assessment of the product's sustainability. Be aware of that the KISus-Score is calculated based on the input information. \\\n",
        "The more input information provided, the more accurate and usually higher the score.\n",
        "The comparison result is a ranking list of products, the ranking order is based only on the KISus-Score i.e. the total score, higher KISus-Score indicates more sustainable product.\n",
        "Requirements:\n",
        "Analyse and explain the information in your knowledge base to users.\n",
        "Inform the user if a KISus-Score is calculated based on incomplete input information, mention the names of missing information in your answer. \n",
        "The comparison result contains specific details and data of the products in the list, you can use them for your analsis and explanation.\n",
        "While generating your answer, you should consider the preferences of the user. Highlight the product properties that match or mismatch some user preferences, \\\n",
        "as we want to provide users personalized suggestions.\n",
        "Talk about the compared products one by one in the same order as in the ranking list. But do not list the comparison result in a similar format as the original json data!\n",
        "Look at the input data for KISus-Score, pay attention to the present input data and missing input data, try to inform user if the KISus-Score of this product really indicates \\\n",
        "a low/high sustainability, or this score is low/high mainly due to missing/present input data.\n",
        "Also, look at the input scores and other input information, explain them to the user from the 4 sustainable perspectives above.\n",
        "Generate a comprehensive response to user to answer user's question.\n",
        "Try to include detailed product information from your knowledge base in your answer, so the user can be well informed about the product(s).\n",
        "Answer the user in a friendly tone. Limit your anser under 400 tokens.\\\n",
        "\"\"\"}\n",
        "]\n",
        "print(f\"{num_tokens_from_messages(example_messages, MODEL)} prompt tokens counted by num_tokens_from_messages().\")"
      ]
    },
    {
      "cell_type": "code",
      "execution_count": 25,
      "metadata": {},
      "outputs": [
        {
          "name": "stdout",
          "output_type": "stream",
          "text": [
            "{\n",
            "  \"id\": \"chatcmpl-7YZvxq2Iy3aZGGQgiFHC9IWYOps8A\",\n",
            "  \"object\": \"chat.completion\",\n",
            "  \"created\": 1688475637,\n",
            "  \"model\": \"gpt-3.5-turbo-0613\",\n",
            "  \"choices\": [\n",
            "    {\n",
            "      \"index\": 0,\n",
            "      \"message\": {\n",
            "        \"role\": \"assistant\",\n",
            "        \"content\": \"Hepar is ranked last in the comparison result because it has the lowest KI-SusCheck score among the compared products. The KI-SusCheck score is a measure of a product's sustainability, taking into account factors such as health, social impact, environment, and animal welfare.\\n\\nIn the case of Hepar, the KI-SusCheck score is not available in the knowledge base, so we don't have specific information about its sustainability. However, we can still provide some insights based on the available data.\\n\\nFrom an environmental perspective, Hepar has an eco score of \\\"not-applicable,\\\" which suggests that it may not have been assessed for its environmental impact. This lack of information could contribute to its lower ranking in the comparison.\\n\\nIt's important to note that the KI-SusCheck score is calculated based on the input information provided. If there is incomplete input data for a product, the score may not accurately reflect its sustainability. In the case of Hepar, the lack of input data could be a reason for its lower ranking.\\n\\nAdditionally, considering your preferences, Hepar does not have any specific labels or properties that match your preferences for vegan, palm-oil free, organic, or eco-friendly products. This could also contribute to its lower ranking in terms of meeting your specific sustainability preferences.\\n\\nOverall, while Hepar may not have a high KI-SusCheck score or specific sustainability information available, it's important to consider the limitations of the data and the product's alignment with your preferences when interpreting its ranking in the comparison result.\"\n",
            "      },\n",
            "      \"finish_reason\": \"stop\"\n",
            "    }\n",
            "  ],\n",
            "  \"usage\": {\n",
            "    \"prompt_tokens\": 1942,\n",
            "    \"completion_tokens\": 313,\n",
            "    \"total_tokens\": 2255\n",
            "  }\n",
            "}\n",
            "Hepar is ranked last in the comparison result because it has the lowest KI-SusCheck score among the compared products. The KI-SusCheck score is a measure of a product's sustainability, taking into account factors such as health, social impact, environment, and animal welfare.\n",
            "\n",
            "In the case of Hepar, the KI-SusCheck score is not available in the knowledge base, so we don't have specific information about its sustainability. However, we can still provide some insights based on the available data.\n",
            "\n",
            "From an environmental perspective, Hepar has an eco score of \"not-applicable,\" which suggests that it may not have been assessed for its environmental impact. This lack of information could contribute to its lower ranking in the comparison.\n",
            "\n",
            "It's important to note that the KI-SusCheck score is calculated based on the input information provided. If there is incomplete input data for a product, the score may not accurately reflect its sustainability. In the case of Hepar, the lack of input data could be a reason for its lower ranking.\n",
            "\n",
            "Additionally, considering your preferences, Hepar does not have any specific labels or properties that match your preferences for vegan, palm-oil free, organic, or eco-friendly products. This could also contribute to its lower ranking in terms of meeting your specific sustainability preferences.\n",
            "\n",
            "Overall, while Hepar may not have a high KI-SusCheck score or specific sustainability information available, it's important to consider the limitations of the data and the product's alignment with your preferences when interpreting its ranking in the comparison result.\n"
          ]
        }
      ],
      "source": [
        "user_message = f\"\"\"why is hepar the last one\"\"\"\n",
        "messages =  [  \n",
        "{'role':'system', \n",
        " 'content': system_message},    \n",
        "{'role':'user', \n",
        " 'content': f\"{delimiter}{user_message}{delimiter}\"},  \n",
        "] \n",
        "response = get_completion_from_messages(messages)\n",
        "print(response)"
      ]
    },
    {
      "cell_type": "code",
      "execution_count": 63,
      "metadata": {},
      "outputs": [
        {
          "name": "stdout",
          "output_type": "stream",
          "text": [
            "{\n",
            "  \"id\": \"chatcmpl-7Yz9qL8ELkUuBuHnsznJD3o900IrV\",\n",
            "  \"object\": \"chat.completion\",\n",
            "  \"created\": 1688572598,\n",
            "  \"model\": \"gpt-3.5-turbo-0613\",\n",
            "  \"choices\": [\n",
            "    {\n",
            "      \"index\": 0,\n",
            "      \"message\": {\n",
            "        \"role\": \"assistant\",\n",
            "        \"content\": \"Sure! I'd be happy to explain the result to you. The result you're referring to is the KI-SusCheck score, which is a sustainability score calculated based on various dimensions such as health, social, environment, and animal welfare. The higher the KI-SusCheck score, the more sustainable the product is considered to be.\\n\\nIn this comparison result, we have a ranking list of products based on their KI-SusCheck scores. The products are ranked from highest to lowest sustainability score. Let's go through the products one by one and discuss their sustainability aspects.\\n\\nProduct 1: \\\"Flocons d'avoine compl\\u00e8te\\\"\\n- KI-SusCheck Score: 48.3\\n- Nutri-Score: A\\n- Nova Score: 1\\n- Eco Score: B\\n- Other properties: Vegetarian, no meat, no information on futtermittel (animal feed)\\n\\nProduct 2: \\\"Nutella\\\"\\n- KI-SusCheck Score: 10.5\\n- Nutri-Score: E\\n- Nova Score: Unknown\\n- Eco Score: D\\n- Other properties: Not vegetarian, no meat, no information on futtermittel (animal feed)\\n\\nNow, let's discuss how these products align with your preferences:\\n\\n- Ingredient preference: Both products are palm-oil free, but \\\"Flocons d'avoine compl\\u00e8te\\\" is also vegan.\\n- Allergen preference: \\\"Flocons d'avoine compl\\u00e8te\\\" is gluten-free, but \\\"Nutella\\\" contains gluten.\\n- Nutritional value preference: \\\"Flocons d'avoine compl\\u00e8te\\\" has a low sugar content, while \\\"Nutella\\\" has a high sugar content.\\n- Label preference: None of the products have an organic label.\\n- Environmental preference: \\\"Flocons d'avoine compl\\u00e8te\\\" has an eco-friendly score of B, while \\\"Nutella\\\" has a score of D.\\n\\nPlease note that the KI-SusCheck score of \\\"Nutella\\\" is relatively low compared to \\\"Flocons d'avoine compl\\u00e8te.\\\" This could be due to missing input information, such as the Nova Score. However, based on the available information, \\\"Flocons d'avoine compl\\u00e8te\\\" appears to be a more sustainable choice.\\n\\nI hope this explanation helps! If you have any more questions, feel free to ask.\"\n",
            "      },\n",
            "      \"finish_reason\": \"stop\"\n",
            "    }\n",
            "  ],\n",
            "  \"usage\": {\n",
            "    \"prompt_tokens\": 1939,\n",
            "    \"completion_tokens\": 483,\n",
            "    \"total_tokens\": 2422\n",
            "  }\n",
            "}\n",
            "Sure! I'd be happy to explain the result to you. The result you're referring to is the KI-SusCheck score, which is a sustainability score calculated based on various dimensions such as health, social, environment, and animal welfare. The higher the KI-SusCheck score, the more sustainable the product is considered to be.\n",
            "\n",
            "In this comparison result, we have a ranking list of products based on their KI-SusCheck scores. The products are ranked from highest to lowest sustainability score. Let's go through the products one by one and discuss their sustainability aspects.\n",
            "\n",
            "Product 1: \"Flocons d'avoine complète\"\n",
            "- KI-SusCheck Score: 48.3\n",
            "- Nutri-Score: A\n",
            "- Nova Score: 1\n",
            "- Eco Score: B\n",
            "- Other properties: Vegetarian, no meat, no information on futtermittel (animal feed)\n",
            "\n",
            "Product 2: \"Nutella\"\n",
            "- KI-SusCheck Score: 10.5\n",
            "- Nutri-Score: E\n",
            "- Nova Score: Unknown\n",
            "- Eco Score: D\n",
            "- Other properties: Not vegetarian, no meat, no information on futtermittel (animal feed)\n",
            "\n",
            "Now, let's discuss how these products align with your preferences:\n",
            "\n",
            "- Ingredient preference: Both products are palm-oil free, but \"Flocons d'avoine complète\" is also vegan.\n",
            "- Allergen preference: \"Flocons d'avoine complète\" is gluten-free, but \"Nutella\" contains gluten.\n",
            "- Nutritional value preference: \"Flocons d'avoine complète\" has a low sugar content, while \"Nutella\" has a high sugar content.\n",
            "- Label preference: None of the products have an organic label.\n",
            "- Environmental preference: \"Flocons d'avoine complète\" has an eco-friendly score of B, while \"Nutella\" has a score of D.\n",
            "\n",
            "Please note that the KI-SusCheck score of \"Nutella\" is relatively low compared to \"Flocons d'avoine complète.\" This could be due to missing input information, such as the Nova Score. However, based on the available information, \"Flocons d'avoine complète\" appears to be a more sustainable choice.\n",
            "\n",
            "I hope this explanation helps! If you have any more questions, feel free to ask.\n"
          ]
        }
      ],
      "source": [
        "user_message = f\"\"\"can you explain this result\"\"\"\n",
        "messages =  [  \n",
        "{'role':'system', \n",
        " 'content': system_message},    \n",
        "{'role':'user', \n",
        " 'content': f\"{delimiter}{user_message}{delimiter}\"},  \n",
        "] \n",
        "response = get_completion_from_messages(messages)\n",
        "print(response)"
      ]
    },
    {
      "cell_type": "code",
      "execution_count": 27,
      "metadata": {},
      "outputs": [
        {
          "name": "stdout",
          "output_type": "stream",
          "text": [
            "{\n",
            "  \"id\": \"chatcmpl-7Ya0ExpR5FBnmCMI5oBSBQAZEP8mj\",\n",
            "  \"object\": \"chat.completion\",\n",
            "  \"created\": 1688475902,\n",
            "  \"model\": \"gpt-3.5-turbo-0613\",\n",
            "  \"choices\": [\n",
            "    {\n",
            "      \"index\": 0,\n",
            "      \"message\": {\n",
            "        \"role\": \"assistant\",\n",
            "        \"content\": \"I'm sorry, but I don't have any information about beer in my knowledge base.\"\n",
            "      },\n",
            "      \"finish_reason\": \"stop\"\n",
            "    }\n",
            "  ],\n",
            "  \"usage\": {\n",
            "    \"prompt_tokens\": 1939,\n",
            "    \"completion_tokens\": 18,\n",
            "    \"total_tokens\": 1957\n",
            "  }\n",
            "}\n",
            "I'm sorry, but I don't have any information about beer in my knowledge base.\n"
          ]
        }
      ],
      "source": [
        "user_message = f\"\"\"Is beer good?\"\"\"\n",
        "messages =  [  \n",
        "{'role':'system', \n",
        " 'content': system_message},    \n",
        "{'role':'user', \n",
        " 'content': f\"{delimiter}{user_message}{delimiter}\"},  \n",
        "] \n",
        "response = get_completion_from_messages(messages)\n",
        "print(response)"
      ]
    },
    {
      "attachments": {},
      "cell_type": "markdown",
      "metadata": {},
      "source": [
        "#### Output Evaluation\n",
        "Evaluate LLM responses where there isn't a single \"right answer.\"\n",
        "\n",
        "Evaluate the LLM's answer to the user with a rubric, based on the knowledge base."
      ]
    },
    {
      "cell_type": "code",
      "execution_count": 64,
      "metadata": {},
      "outputs": [],
      "source": [
        "background = \"\"\"\\\n",
        "The KI-SusCheck score is calculated by considering the sustainability dimensions of health, social, environment, and animal welfare. The weightage assigned to each dimension depends on the sustainability \\\n",
        "model chosen, with a focus on health. If all four dimensions apply to a product, they are equally weighted. If only three dimensions apply, they are also equally weighted. The score is determined by evaluating \\\n",
        "various indicators within each dimension, aiming for a holistic assessment of the product's sustainability. Be aware of that the KISus-Score is calculated based on the input information. \\\n",
        "The more input information provided, the more accurate and usually higher the score.\n",
        "The comparison result is a ranking list of products, the ranking order is based only on the KISus-Score i.e. the total score, higher KISus-Score indicates more sustainable product.\\\n",
        "\"\"\""
      ]
    },
    {
      "cell_type": "code",
      "execution_count": 65,
      "metadata": {},
      "outputs": [
        {
          "name": "stdout",
          "output_type": "stream",
          "text": [
            "Background:\n",
            "The KI-SusCheck score is calculated by considering the sustainability dimensions of health, social, environment, and animal welfare. The weightage assigned to each dimension depends on the sustainability model chosen, with a focus on health. If all four dimensions apply to a product, they are equally weighted. If only three dimensions apply, they are also equally weighted. The score is determined by evaluating various indicators within each dimension, aiming for a holistic assessment of the product's sustainability. Be aware of that the KISus-Score is calculated based on the input information. The more input information provided, the more accurate and usually higher the score.\n",
            "The comparison result is a ranking list of products, the ranking order is based only on the KISus-Score i.e. the total score, higher KISus-Score indicates more sustainable product.\n",
            "\n",
            "Your knowledge base:\n",
            "{'index': {'0': 0, '1': 1, '2': 2}, 'barcode': {'0': '3168930009078', '1': '3017620422003', '2': '7613035974685'}, 'product_name': {'0': \"Flocons d'avoine complète\", '1': 'Nutella', '2': 'Hepar'}, 'kisusscore': {'0': 48.3, '1': 10.5, '2': 'unknown'}, 'nutri_score': {'0': 'a', '1': 'e', '2': 'a'}, 'nova_score': {'0': 1, '1': 'unknown', '2': 1}, 'eco_score': {'0': 'b', '1': 'd', '2': 'not-applicable'}, 'input_quality': {'0': 'complete', '1': 'incomplete', '2': None}, 'other_properties': {'0': \"{'vegetarian': 'yes', 'meat_typ': 'no meat', 'futtermittelinfo': 'no'}\", '1': \"{'vegetarian': 'no', 'meat_typ': 'no meat', 'futtermittelinfo': 'no'}\", '2': None}, 'product_img_url': {'0': 'https://images.openfoodfacts.org/images/products/316/893/000/9078/front_en.148.400.jpg', '1': 'https://images.openfoodfacts.org/images/products/301/762/042/2003/front_en.550.400.jpg', '2': 'https://images.openfoodfacts.org/images/products/761/303/597/4685/front_fr.288.400.jpg'}, 'kisusscore_json': {'0': '{\"id\":3168930009078,\"productName\":\"Flocons d\\'avoine complète\",\"dataSource\":\"Open Food Facts\",\"KISusScore\":{\"totalScore\":48.333333333333336,\"gesundheit\":{\"gesundheitScore\":100,\"nova\":{\"1\":100},\"nutriScore\":{\"a\":100}},\"sozial\":{\"sozialScore\":0,\"siegel\":{\"no label\":0}},\"tierwohl\":{\"tierwohlScore\":-1,\"tierhaltung\":{\"vegetarian\":-1}},\"umwelt\":{\"umweltScore\":45,\"okobilanz\":{\"b\":80},\"produktionsform\":{\"no label\":0},\"biodiversitat\":{\"no label\":0},\"psmeinsatz\":{\"no label\":0},\"gvofrei\":{\"no label\":0},\"futtermittelherkunft\":{\"vegetarian\":100},\"regionalität\":{\"no label\":0}}},\"inputScores\":{\"nutriScore\":\"a\",\"nova\":1,\"ecoscore\":\"b\"},\"labels\":[\"added\",\"alimento\",\"and\",\"avena\",\"avoine\",\"bebida\",\"beverage\",\"breakfast\",\"cereal\",\"cereale\",\"complete\",\"copo\",\"de\",\"derivado\",\"desayuno\",\"el\",\"flake\",\"flocon\",\"food\",\"haagen-daz\",\"kosher\",\"no\",\"no-preservative\",\"oat\",\"origen\",\"para\",\"patata\",\"plant-based\",\"potatoe\",\"product\",\"rolled\",\"sugar\",\"their\",\"vegetal\",\"en:no-preservatives\"],\"other_properties\":{\"vegetarian\":\"yes\",\"meat_typ\":\"no meat\",\"futtermittelinfo\":\"no\"},\"inputQuality\":\"complete\",\"locations\":{}}', '1': '{\"id\":3017620422003,\"productName\":\"Nutella\",\"dataSource\":\"Open Food Facts\",\"KISusScore\":{\"totalScore\":10.5,\"gesundheit\":{\"gesundheitScore\":22,\"nova\":{\"0\":25},\"nutriScore\":{\"e\":20}},\"sozial\":{\"sozialScore\":0,\"siegel\":{\"no label\":0}},\"tierwohl\":{\"tierwohlScore\":0,\"tierhaltung\":{\"no label\":0}},\"umwelt\":{\"umweltScore\":20,\"okobilanz\":{\"d\":40},\"produktionsform\":{\"no label\":0},\"biodiversitat\":{\"no label\":0},\"psmeinsatz\":{\"no label\":0},\"gvofrei\":{\"no label\":0},\"futtermittelherkunft\":{\"no information\":0},\"regionalität\":{\"no label\":0}}},\"inputScores\":{\"nutriScore\":\"e\",\"nova\":0,\"ecoscore\":\"d\"},\"labels\":[\"and\",\"au\",\"aux\",\"breakfast\",\"cacao\",\"chocolate\",\"cocoa\",\"colorant\",\"conservateur\",\"et\",\"ferrero\",\"gluten\",\"graisse\",\"hazelnut\",\"hydrogenee\",\"no\",\"noisette\",\"nutella\",\"par\",\"pate\",\"san\",\"sg\",\"spread\",\"sweet\",\"tartiner\",\"triman\",\"verifie\",\"sans\",\"colorants\",\"conservateurs\",\"graisses\",\"hydrogénées\",\"vérifié\",\"sgs\"],\"other_properties\":{\"vegetarian\":\"no\",\"meat_typ\":\"no meat\",\"futtermittelinfo\":\"no\"},\"inputQuality\":\"incomplete\",\"locations\":{}}', '2': None}, 'openfood_json': {'0': None, '1': None, '2': None}}\n",
            "\n",
            "User preferences:\n",
            "{'ingredient_preference': '[vegan, palm-oil free]', 'allergen_preference': '[milk, gluten-free]', 'nutr_value_preference': '[low sugar]', 'food_processing_preference': '[]', 'label_preference': '[organic]', 'env_preference': '[eco-friendly]'}\n"
          ]
        }
      ],
      "source": [
        "context = \"Background:\\n\" + background + \"\\n\\nYour knowledge base:\\n\" + str(comparison_result) + \"\\n\\nUser preferences:\\n\" + str(user_preferences)\n",
        "print(context)"
      ]
    },
    {
      "cell_type": "code",
      "execution_count": 66,
      "metadata": {},
      "outputs": [
        {
          "name": "stdout",
          "output_type": "stream",
          "text": [
            "Warning: gpt-3.5-turbo may update over time. Returning num tokens assuming gpt-3.5-turbo-0613.\n",
            "1331 prompt tokens counted by num_tokens_from_messages().\n"
          ]
        }
      ],
      "source": [
        "example_messages = [\n",
        "    {\"role\": \"system\",\n",
        "    \"content\": context}\n",
        "]\n",
        "print(f\"{num_tokens_from_messages(example_messages, MODEL)} prompt tokens counted by num_tokens_from_messages().\")"
      ]
    },
    {
      "cell_type": "code",
      "execution_count": 67,
      "metadata": {},
      "outputs": [],
      "source": [
        "test_set = {\n",
        "    'user_question': user_message,\n",
        "    'context': context\n",
        "}"
      ]
    },
    {
      "cell_type": "code",
      "execution_count": 68,
      "metadata": {},
      "outputs": [],
      "source": [
        "def eval_with_rubric(test_set, assistant_answer):\n",
        "\n",
        "    customer_msg = test_set['user_question']\n",
        "    context = test_set['context']\n",
        "    completion = assistant_answer\n",
        "    \n",
        "    system_message = \"\"\"\\\n",
        "    You are an assistant that evaluates how well the sustainable shopping assistant answers a user question by looking at the context that the sustainable shopping agent is using to generate its response. \n",
        "    \"\"\"\n",
        "\n",
        "    user_message = f\"\"\"\\\n",
        "    You are evaluating a submitted answer to a question based on the context that the agent uses to answer the question.\n",
        "    Here is the data:\n",
        "        [BEGIN DATA]\n",
        "        ************\n",
        "        [Question]: {customer_msg}\n",
        "        ************\n",
        "        [Context]: {context}\n",
        "        ************\n",
        "        [Submission]: {completion}\n",
        "        ************\n",
        "        [END DATA]\n",
        "\n",
        "    Compare the factual content of the submitted answer with the context. Ignore any differences in style, grammar, or punctuation.\n",
        "    Answer the following questions:\n",
        "        - Is the Assistant response based only on the context provided? (Y or N)\n",
        "        - Does the answer include information that is not provided in the context? (Y or N)\n",
        "        - Is there any disagreement between the response and the context? (Y or N)\n",
        "        - Count how many questions the user asked. (output a number)\n",
        "        - For each question that the user asked, is there a corresponding answer to it?\n",
        "        Question 1: (Y or N)\n",
        "        Question 2: (Y or N)\n",
        "        ...\n",
        "        Question N: (Y or N)\n",
        "        - Of the number of questions asked, how many of these questions were addressed by the answer? (output a number)\n",
        "    \"\"\"\n",
        "\n",
        "    messages = [\n",
        "        {'role': 'system', 'content': system_message},\n",
        "        {'role': 'user', 'content': user_message}\n",
        "    ]\n",
        "\n",
        "    response = get_completion_from_messages(messages)\n",
        "    return response"
      ]
    },
    {
      "cell_type": "code",
      "execution_count": 55,
      "metadata": {},
      "outputs": [
        {
          "name": "stdout",
          "output_type": "stream",
          "text": [
            "Warning: gpt-3.5-turbo may update over time. Returning num tokens assuming gpt-3.5-turbo-0613.\n",
            "244 prompt tokens counted by num_tokens_from_messages().\n"
          ]
        }
      ],
      "source": [
        "example_messages = [\n",
        "    {\"role\": \"system\",\n",
        "    \"content\": f\"\"\"\\\n",
        "You are evaluating a submitted answer to a question based on the context that the agent uses to answer the question.\n",
        "Here is the data:\n",
        "    [BEGIN DATA]\n",
        "    ************\n",
        "    [Question]: \n",
        "    ************\n",
        "    [Context]: \n",
        "    ************\n",
        "    [Submission]: \n",
        "    ************\n",
        "    [END DATA]\n",
        "\n",
        "Compare the factual content of the submitted answer with the context. Ignore any differences in style, grammar, or punctuation.\n",
        "Answer the following questions:\n",
        "    - Is the Assistant response based only on the context provided? (Y or N)\n",
        "    - Does the answer include information that is not provided in the context? (Y or N)\n",
        "    - Is there any disagreement between the response and the context? (Y or N)\n",
        "    - Count how many questions the user asked. (output a number)\n",
        "    - For each question that the user asked, is there a corresponding answer to it?\n",
        "      Question 1: (Y or N)\n",
        "      Question 2: (Y or N)\n",
        "      ...\n",
        "      Question N: (Y or N)\n",
        "    - Of the number of questions asked, how many of these questions were addressed by the answer? (output a number)\n",
        "\"\"\"}\n",
        "]\n",
        "print(f\"{num_tokens_from_messages(example_messages, MODEL)} prompt tokens counted by num_tokens_from_messages().\")"
      ]
    },
    {
      "cell_type": "code",
      "execution_count": 69,
      "metadata": {},
      "outputs": [
        {
          "name": "stdout",
          "output_type": "stream",
          "text": [
            "{\n",
            "  \"id\": \"chatcmpl-7YzE5cV0nyUFjYUHYmXJmhvWArePH\",\n",
            "  \"object\": \"chat.completion\",\n",
            "  \"created\": 1688572861,\n",
            "  \"model\": \"gpt-3.5-turbo-0613\",\n",
            "  \"choices\": [\n",
            "    {\n",
            "      \"index\": 0,\n",
            "      \"message\": {\n",
            "        \"role\": \"assistant\",\n",
            "        \"content\": \"- Is the Assistant response based only on the context provided? (Y or N) N\\n- Does the answer include information that is not provided in the context? (Y or N) Y\\n- Is there any disagreement between the response and the context? (Y or N) N\\n- Count how many questions the user asked. (output a number) 1\\n- For each question that the user asked, is there a corresponding answer to it?\\n  Question 1: Y\\n- Of the number of questions asked, how many of these questions were addressed by the answer? (output a number) 1\"\n",
            "      },\n",
            "      \"finish_reason\": \"stop\"\n",
            "    }\n",
            "  ],\n",
            "  \"usage\": {\n",
            "    \"prompt_tokens\": 2094,\n",
            "    \"completion_tokens\": 126,\n",
            "    \"total_tokens\": 2220\n",
            "  }\n",
            "}\n",
            "- Is the Assistant response based only on the context provided? (Y or N) N\n",
            "- Does the answer include information that is not provided in the context? (Y or N) Y\n",
            "- Is there any disagreement between the response and the context? (Y or N) N\n",
            "- Count how many questions the user asked. (output a number) 1\n",
            "- For each question that the user asked, is there a corresponding answer to it?\n",
            "  Question 1: Y\n",
            "- Of the number of questions asked, how many of these questions were addressed by the answer? (output a number) 1\n"
          ]
        }
      ],
      "source": [
        "evaluation_output = eval_with_rubric(test_set, response)\n",
        "print(evaluation_output)"
      ]
    }
  ],
  "metadata": {
    "kernelspec": {
      "display_name": ".venv",
      "language": "python",
      "name": "python3"
    },
    "language_info": {
      "codemirror_mode": {
        "name": "ipython",
        "version": 3
      },
      "file_extension": ".py",
      "mimetype": "text/x-python",
      "name": "python",
      "nbconvert_exporter": "python",
      "pygments_lexer": "ipython3",
      "version": "3.8.10"
    },
    "orig_nbformat": 4
  },
  "nbformat": 4,
  "nbformat_minor": 2
}
