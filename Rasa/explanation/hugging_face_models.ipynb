{
 "cells": [
  {
   "cell_type": "code",
   "execution_count": 1,
   "metadata": {},
   "outputs": [
    {
     "name": "stderr",
     "output_type": "stream",
     "text": [
      "2023-07-05 13:31:29.172250: I tensorflow/core/platform/cpu_feature_guard.cc:182] This TensorFlow binary is optimized to use available CPU instructions in performance-critical operations.\n",
      "To enable the following instructions: AVX2 AVX512F FMA, in other operations, rebuild TensorFlow with the appropriate compiler flags.\n",
      "2023-07-05 13:31:43.287338: W tensorflow/compiler/tf2tensorrt/utils/py_utils.cc:38] TF-TRT Warning: Could not find TensorRT\n"
     ]
    }
   ],
   "source": [
    "from transformers import pipeline\n",
    "import json"
   ]
  },
  {
   "cell_type": "code",
   "execution_count": 6,
   "metadata": {},
   "outputs": [],
   "source": [
    "comparison_result = r'''{\"index\":{\"0\":0,\"1\":1,\"2\":2},\"barcode\":{\"0\":\"3168930009078\",\"1\":\"3017620422003\",\"2\":\"7613035974685\"},\"product_name\":{\"0\":\"Flocons d'avoine compl\\u00e8te\",\"1\":\"Nutella\",\"2\":\"Hepar\"},\"kisusscore\":{\"0\":48.3,\"1\":10.5,\"2\":\"unknown\"},\"nutri_score\":{\"0\":\"a\",\"1\":\"e\",\"2\":\"a\"},\"nova_score\":{\"0\":1,\"1\":\"unknown\",\"2\":1},\"eco_score\":{\"0\":\"b\",\"1\":\"d\",\"2\":\"not-applicable\"},\"input_quality\":{\"0\":\"complete\",\"1\":\"incomplete\",\"2\":null},\"other_properties\":{\"0\":\"{'vegetarian': 'yes', 'meat_typ': 'no meat', 'futtermittelinfo': 'no'}\",\"1\":\"{'vegetarian': 'no', 'meat_typ': 'no meat', 'futtermittelinfo': 'no'}\",\"2\":null},\"product_img_url\":{\"0\":\"https:\\/\\/images.openfoodfacts.org\\/images\\/products\\/316\\/893\\/000\\/9078\\/front_en.148.400.jpg\",\"1\":\"https:\\/\\/images.openfoodfacts.org\\/images\\/products\\/301\\/762\\/042\\/2003\\/front_en.550.400.jpg\",\"2\":\"https:\\/\\/images.openfoodfacts.org\\/images\\/products\\/761\\/303\\/597\\/4685\\/front_fr.288.400.jpg\"},\"kisusscore_json\":{\"0\":\"{\\\"id\\\":3168930009078,\\\"productName\\\":\\\"Flocons d'avoine compl\\u00e8te\\\",\\\"dataSource\\\":\\\"Open Food Facts\\\",\\\"KISusScore\\\":{\\\"totalScore\\\":48.333333333333336,\\\"gesundheit\\\":{\\\"gesundheitScore\\\":100,\\\"nova\\\":{\\\"1\\\":100},\\\"nutriScore\\\":{\\\"a\\\":100}},\\\"sozial\\\":{\\\"sozialScore\\\":0,\\\"siegel\\\":{\\\"no label\\\":0}},\\\"tierwohl\\\":{\\\"tierwohlScore\\\":-1,\\\"tierhaltung\\\":{\\\"vegetarian\\\":-1}},\\\"umwelt\\\":{\\\"umweltScore\\\":45,\\\"okobilanz\\\":{\\\"b\\\":80},\\\"produktionsform\\\":{\\\"no label\\\":0},\\\"biodiversitat\\\":{\\\"no label\\\":0},\\\"psmeinsatz\\\":{\\\"no label\\\":0},\\\"gvofrei\\\":{\\\"no label\\\":0},\\\"futtermittelherkunft\\\":{\\\"vegetarian\\\":100},\\\"regionalit\\u00e4t\\\":{\\\"no label\\\":0}}},\\\"inputScores\\\":{\\\"nutriScore\\\":\\\"a\\\",\\\"nova\\\":1,\\\"ecoscore\\\":\\\"b\\\"},\\\"labels\\\":[\\\"added\\\",\\\"alimento\\\",\\\"and\\\",\\\"avena\\\",\\\"avoine\\\",\\\"bebida\\\",\\\"beverage\\\",\\\"breakfast\\\",\\\"cereal\\\",\\\"cereale\\\",\\\"complete\\\",\\\"copo\\\",\\\"de\\\",\\\"derivado\\\",\\\"desayuno\\\",\\\"el\\\",\\\"flake\\\",\\\"flocon\\\",\\\"food\\\",\\\"haagen-daz\\\",\\\"kosher\\\",\\\"no\\\",\\\"no-preservative\\\",\\\"oat\\\",\\\"origen\\\",\\\"para\\\",\\\"patata\\\",\\\"plant-based\\\",\\\"potatoe\\\",\\\"sugar\\\"],\\\"other_properties\\\":{\\\"vegetarian\\\":\\\"yes\\\",\\\"meat_typ\\\":\\\"no meat\\\",\\\"futtermittelinfo\\\":\\\"no\\\"},\\\"inputQuality\\\":\\\"complete\\\",\\\"locations\\\":{}}\",\"1\":\"{\\\"id\\\":3017620422003,\\\"productName\\\":\\\"Nutella\\\",\\\"dataSource\\\":\\\"Open Food Facts\\\",\\\"KISusScore\\\":{\\\"totalScore\\\":10.5,\\\"gesundheit\\\":{\\\"gesundheitScore\\\":22,\\\"nova\\\":{\\\"0\\\":25},\\\"nutriScore\\\":{\\\"e\\\":20}},\\\"sozial\\\":{\\\"sozialScore\\\":0,\\\"siegel\\\":{\\\"no label\\\":0}},\\\"tierwohl\\\":{\\\"tierwohlScore\\\":0,\\\"tierhaltung\\\":{\\\"no label\\\":0}},\\\"umwelt\\\":{\\\"umweltScore\\\":20,\\\"okobilanz\\\":{\\\"d\\\":40},\\\"produktionsform\\\":{\\\"no label\\\":0},\\\"biodiversitat\\\":{\\\"no label\\\":0},\\\"psmeinsatz\\\":{\\\"no label\\\":0},\\\"gvofrei\\\":{\\\"no label\\\":0},\\\"futtermittelherkunft\\\":{\\\"no information\\\":0},\\\"regionalit\\u00e4t\\\":{\\\"no label\\\":0}}},\\\"inputScores\\\":{\\\"nutriScore\\\":\\\"e\\\",\\\"nova\\\":0,\\\"ecoscore\\\":\\\"d\\\"},\\\"labels\\\":[\\\"and\\\",\\\"au\\\",\\\"aux\\\",\\\"breakfast\\\",\\\"cacao\\\",\\\"chocolate\\\",\\\"cocoa\\\",\\\"colorant\\\",\\\"conservateur\\\",\\\"et\\\",\\\"ferrero\\\",\\\"gluten\\\",\\\"graisse\\\",\\\"hazelnut\\\",\\\"hydrogenee\\\",\\\"no\\\",\\\"noisette\\\",\\\"nutella\\\",\\\"par\\\",\\\"pate\\\",\\\"san\\\",\\\"sg\\\",\\\"spread\\\",\\\"sweet\\\",\\\"tartiner\\\",\\\"triman\\\"],\\\"other_properties\\\":{\\\"vegetarian\\\":\\\"no\\\",\\\"meat_typ\\\":\\\"no meat\\\",\\\"futtermittelinfo\\\":\\\"no\\\"},\\\"inputQuality\\\":\\\"incomplete\\\",\\\"locations\\\":{}}\",\"2\":null}}'''\n",
    "comparison_result = json.loads(comparison_result, strict=False)"
   ]
  },
  {
   "cell_type": "code",
   "execution_count": 4,
   "metadata": {},
   "outputs": [],
   "source": [
    "user_preferences = {\"ingredient_preference\":\"[vegan, palm-oil free]\", \"allergen_preference\":\"[milk, gluten-free]\", \n",
    "                    \"nutr_value_preference\":\"[low sugar]\", \"food_processing_preference\":\"[]\",\n",
    "                    \"label_preference\":\"[organic]\", \"env_preference\":\"[eco-friendly]\"}"
   ]
  },
  {
   "cell_type": "code",
   "execution_count": 3,
   "metadata": {},
   "outputs": [],
   "source": [
    "system_message = f\"\"\"\n",
    "Comparison result: {str(comparison_result)}\n",
    "\"\"\""
   ]
  },
  {
   "cell_type": "code",
   "execution_count": 10,
   "metadata": {},
   "outputs": [],
   "source": [
    "user_message = \"\"\"Can you summarize the comparison result?\"\"\""
   ]
  },
  {
   "cell_type": "code",
   "execution_count": 11,
   "metadata": {},
   "outputs": [],
   "source": [
    "sys_user_message = system_message + \"\\nUser question: \" + user_message"
   ]
  },
  {
   "cell_type": "code",
   "execution_count": 16,
   "metadata": {},
   "outputs": [
    {
     "name": "stderr",
     "output_type": "stream",
     "text": [
      "Token indices sequence length is longer than the specified maximum sequence length for this model (1851 > 512). Running this sequence through the model will result in indexing errors\n",
      "Both `max_new_tokens` (=600) and `max_length`(=20) seem to have been set. `max_new_tokens` will take precedence. Please refer to the documentation for more information. (https://huggingface.co/docs/transformers/main/en/main_classes/text_generation)\n"
     ]
    },
    {
     "data": {
      "text/plain": [
       "[{'generated_text': \"'index': '0': 0, '1': '1': '1': '1': '1': '1': '1': '1': '1': '1': '1': '1': '1': '1': '1': '1': '1': '1': '1': '1': '1': '1': '1': '1': '1': '1': '1': '1': '1': '1': '1': '1': '1': '1': '1': '1': '1': '1': '1': '1': '1': '1': '1': '1': '1': '1': '1': '1': '1': '1': '1': '1': '1': '1': '1': '1': '1': '1': '1': '1': '1': '1': '1': '1': '1': '1': '1': '1': '1': '1': '1': '1': '1': '1': '1': '1': '1': '1': '1': '1': '1': 1': 1': 1': 1': 1': 1': 1': 1': 1': 1': 1': 1': 1': 1': 1': 1': 1': 1': 1': 1': \"}]"
      ]
     },
     "execution_count": 16,
     "metadata": {},
     "output_type": "execute_result"
    }
   ],
   "source": [
    "MODEL = \"google/flan-t5-base\"\n",
    "text2text_generator = pipeline(\"text2text-generation\", model = MODEL, framework=\"pt\", max_new_tokens=600)\n",
    "text2text_generator(sys_user_message)"
   ]
  },
  {
   "cell_type": "code",
   "execution_count": 15,
   "metadata": {},
   "outputs": [
    {
     "name": "stdout",
     "output_type": "stream",
     "text": [
      "{'score': 0.0004442450008355081, 'start': 96, 'end': 109, 'answer': '3017620422003'}\n",
      "score: 0.0004, start: 96, end: 109, answer: 3017620422003\n"
     ]
    }
   ],
   "source": [
    "question_answerer = pipeline(task=\"question-answering\", model=\"deepset/roberta-base-squad2\", max_new_tokens=600)\n",
    "preds = question_answerer(\n",
    "    question=\"Can you explain the comparison result?\",\n",
    "    context=system_message\n",
    ")\n",
    "print(preds)\n",
    "print(\n",
    "    f\"score: {round(preds['score'], 4)}, start: {preds['start']}, end: {preds['end']}, answer: {preds['answer']}\"\n",
    ")"
   ]
  },
  {
   "cell_type": "code",
   "execution_count": 7,
   "metadata": {},
   "outputs": [
    {
     "ename": "",
     "evalue": "",
     "output_type": "error",
     "traceback": [
      "\u001b[1;31mCannot execute code, session has been disposed. Please try restarting the Kernel."
     ]
    },
    {
     "ename": "",
     "evalue": "",
     "output_type": "error",
     "traceback": [
      "\u001b[1;31mThe Kernel crashed while executing code in the the current cell or a previous cell. Please review the code in the cell(s) to identify a possible cause of the failure. Click <a href='https://aka.ms/vscodeJupyterKernelCrash'>here</a> for more info. View Jupyter <a href='command:jupyter.viewOutput'>log</a> for further details."
     ]
    }
   ],
   "source": [
    "summarizer = pipeline(task=\"summarization\", model=\"slauw87/bart_summarisation\", max_new_tokens=600)\n",
    "summarizer(\n",
    "    system_message\n",
    ")"
   ]
  }
 ],
 "metadata": {
  "kernelspec": {
   "display_name": "Python 3",
   "language": "python",
   "name": "python3"
  },
  "language_info": {
   "codemirror_mode": {
    "name": "ipython",
    "version": 3
   },
   "file_extension": ".py",
   "mimetype": "text/x-python",
   "name": "python",
   "nbconvert_exporter": "python",
   "pygments_lexer": "ipython3",
   "version": "3.8.10"
  },
  "orig_nbformat": 4
 },
 "nbformat": 4,
 "nbformat_minor": 2
}
